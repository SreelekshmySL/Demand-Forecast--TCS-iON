{
  "cells": [
    {
      "cell_type": "markdown",
      "metadata": {
        "id": "dyKOu8EfwFki"
      },
      "source": [
        "# Sales Forecast\n",
        "Submitted by : Sreelekshmy S L\n"
      ]
    },
    {
      "cell_type": "code",
      "execution_count": null,
      "metadata": {
        "id": "FZNg0AeEQAS8"
      },
      "outputs": [],
      "source": [
        "# from google.colab import drive\n",
        "# drive.mount('/content/drive')"
      ]
    },
    {
      "cell_type": "markdown",
      "metadata": {
        "id": "AIxNURmGwMB_"
      },
      "source": [
        "### Import necessary libraries"
      ]
    },
    {
      "cell_type": "code",
      "execution_count": 3,
      "metadata": {
        "id": "CV16asCP3yKu"
      },
      "outputs": [],
      "source": [
        "import pandas as pd\n",
        "import numpy as np\n",
        "import seaborn as sns\n",
        "import matplotlib.pyplot as plt"
      ]
    },
    {
      "cell_type": "markdown",
      "source": [
        "Read the train and test data seperately"
      ],
      "metadata": {
        "id": "bRR9PIdEtqBq"
      }
    },
    {
      "cell_type": "code",
      "execution_count": 8,
      "metadata": {
        "id": "Fj-bBgCh3t4E"
      },
      "outputs": [],
      "source": [
        "train = pd.read_csv('/content/drive/MyDrive/TCS iON Internship/demand-forecasting-kernels-only/train.csv')\n",
        "test = pd.read_csv('/content/drive/MyDrive/TCS iON Internship/demand-forecasting-kernels-only/test.csv')"
      ]
    },
    {
      "cell_type": "code",
      "execution_count": 9,
      "metadata": {
        "colab": {
          "base_uri": "https://localhost:8080/",
          "height": 206
        },
        "id": "MNqseCS-32B3",
        "outputId": "dad41d8d-2cb6-4d30-d012-9e9f1229e1cb"
      },
      "outputs": [
        {
          "output_type": "execute_result",
          "data": {
            "text/plain": [
              "         date  store  item  sales\n",
              "0  2013-01-01      1     1     13\n",
              "1  2013-01-02      1     1     11\n",
              "2  2013-01-03      1     1     14\n",
              "3  2013-01-04      1     1     13\n",
              "4  2013-01-05      1     1     10"
            ],
            "text/html": [
              "\n",
              "  <div id=\"df-f0914e3a-6dae-43d7-b986-8506bbfecef1\">\n",
              "    <div class=\"colab-df-container\">\n",
              "      <div>\n",
              "<style scoped>\n",
              "    .dataframe tbody tr th:only-of-type {\n",
              "        vertical-align: middle;\n",
              "    }\n",
              "\n",
              "    .dataframe tbody tr th {\n",
              "        vertical-align: top;\n",
              "    }\n",
              "\n",
              "    .dataframe thead th {\n",
              "        text-align: right;\n",
              "    }\n",
              "</style>\n",
              "<table border=\"1\" class=\"dataframe\">\n",
              "  <thead>\n",
              "    <tr style=\"text-align: right;\">\n",
              "      <th></th>\n",
              "      <th>date</th>\n",
              "      <th>store</th>\n",
              "      <th>item</th>\n",
              "      <th>sales</th>\n",
              "    </tr>\n",
              "  </thead>\n",
              "  <tbody>\n",
              "    <tr>\n",
              "      <th>0</th>\n",
              "      <td>2013-01-01</td>\n",
              "      <td>1</td>\n",
              "      <td>1</td>\n",
              "      <td>13</td>\n",
              "    </tr>\n",
              "    <tr>\n",
              "      <th>1</th>\n",
              "      <td>2013-01-02</td>\n",
              "      <td>1</td>\n",
              "      <td>1</td>\n",
              "      <td>11</td>\n",
              "    </tr>\n",
              "    <tr>\n",
              "      <th>2</th>\n",
              "      <td>2013-01-03</td>\n",
              "      <td>1</td>\n",
              "      <td>1</td>\n",
              "      <td>14</td>\n",
              "    </tr>\n",
              "    <tr>\n",
              "      <th>3</th>\n",
              "      <td>2013-01-04</td>\n",
              "      <td>1</td>\n",
              "      <td>1</td>\n",
              "      <td>13</td>\n",
              "    </tr>\n",
              "    <tr>\n",
              "      <th>4</th>\n",
              "      <td>2013-01-05</td>\n",
              "      <td>1</td>\n",
              "      <td>1</td>\n",
              "      <td>10</td>\n",
              "    </tr>\n",
              "  </tbody>\n",
              "</table>\n",
              "</div>\n",
              "      <button class=\"colab-df-convert\" onclick=\"convertToInteractive('df-f0914e3a-6dae-43d7-b986-8506bbfecef1')\"\n",
              "              title=\"Convert this dataframe to an interactive table.\"\n",
              "              style=\"display:none;\">\n",
              "        \n",
              "  <svg xmlns=\"http://www.w3.org/2000/svg\" height=\"24px\"viewBox=\"0 0 24 24\"\n",
              "       width=\"24px\">\n",
              "    <path d=\"M0 0h24v24H0V0z\" fill=\"none\"/>\n",
              "    <path d=\"M18.56 5.44l.94 2.06.94-2.06 2.06-.94-2.06-.94-.94-2.06-.94 2.06-2.06.94zm-11 1L8.5 8.5l.94-2.06 2.06-.94-2.06-.94L8.5 2.5l-.94 2.06-2.06.94zm10 10l.94 2.06.94-2.06 2.06-.94-2.06-.94-.94-2.06-.94 2.06-2.06.94z\"/><path d=\"M17.41 7.96l-1.37-1.37c-.4-.4-.92-.59-1.43-.59-.52 0-1.04.2-1.43.59L10.3 9.45l-7.72 7.72c-.78.78-.78 2.05 0 2.83L4 21.41c.39.39.9.59 1.41.59.51 0 1.02-.2 1.41-.59l7.78-7.78 2.81-2.81c.8-.78.8-2.07 0-2.86zM5.41 20L4 18.59l7.72-7.72 1.47 1.35L5.41 20z\"/>\n",
              "  </svg>\n",
              "      </button>\n",
              "      \n",
              "  <style>\n",
              "    .colab-df-container {\n",
              "      display:flex;\n",
              "      flex-wrap:wrap;\n",
              "      gap: 12px;\n",
              "    }\n",
              "\n",
              "    .colab-df-convert {\n",
              "      background-color: #E8F0FE;\n",
              "      border: none;\n",
              "      border-radius: 50%;\n",
              "      cursor: pointer;\n",
              "      display: none;\n",
              "      fill: #1967D2;\n",
              "      height: 32px;\n",
              "      padding: 0 0 0 0;\n",
              "      width: 32px;\n",
              "    }\n",
              "\n",
              "    .colab-df-convert:hover {\n",
              "      background-color: #E2EBFA;\n",
              "      box-shadow: 0px 1px 2px rgba(60, 64, 67, 0.3), 0px 1px 3px 1px rgba(60, 64, 67, 0.15);\n",
              "      fill: #174EA6;\n",
              "    }\n",
              "\n",
              "    [theme=dark] .colab-df-convert {\n",
              "      background-color: #3B4455;\n",
              "      fill: #D2E3FC;\n",
              "    }\n",
              "\n",
              "    [theme=dark] .colab-df-convert:hover {\n",
              "      background-color: #434B5C;\n",
              "      box-shadow: 0px 1px 3px 1px rgba(0, 0, 0, 0.15);\n",
              "      filter: drop-shadow(0px 1px 2px rgba(0, 0, 0, 0.3));\n",
              "      fill: #FFFFFF;\n",
              "    }\n",
              "  </style>\n",
              "\n",
              "      <script>\n",
              "        const buttonEl =\n",
              "          document.querySelector('#df-f0914e3a-6dae-43d7-b986-8506bbfecef1 button.colab-df-convert');\n",
              "        buttonEl.style.display =\n",
              "          google.colab.kernel.accessAllowed ? 'block' : 'none';\n",
              "\n",
              "        async function convertToInteractive(key) {\n",
              "          const element = document.querySelector('#df-f0914e3a-6dae-43d7-b986-8506bbfecef1');\n",
              "          const dataTable =\n",
              "            await google.colab.kernel.invokeFunction('convertToInteractive',\n",
              "                                                     [key], {});\n",
              "          if (!dataTable) return;\n",
              "\n",
              "          const docLinkHtml = 'Like what you see? Visit the ' +\n",
              "            '<a target=\"_blank\" href=https://colab.research.google.com/notebooks/data_table.ipynb>data table notebook</a>'\n",
              "            + ' to learn more about interactive tables.';\n",
              "          element.innerHTML = '';\n",
              "          dataTable['output_type'] = 'display_data';\n",
              "          await google.colab.output.renderOutput(dataTable, element);\n",
              "          const docLink = document.createElement('div');\n",
              "          docLink.innerHTML = docLinkHtml;\n",
              "          element.appendChild(docLink);\n",
              "        }\n",
              "      </script>\n",
              "    </div>\n",
              "  </div>\n",
              "  "
            ]
          },
          "metadata": {},
          "execution_count": 9
        }
      ],
      "source": [
        "train.head()"
      ]
    },
    {
      "cell_type": "code",
      "source": [
        "test.head()"
      ],
      "metadata": {
        "colab": {
          "base_uri": "https://localhost:8080/",
          "height": 206
        },
        "id": "Y9Ag2ecpEcLN",
        "outputId": "89146550-73e6-4d11-c52f-73be28d46039"
      },
      "execution_count": 10,
      "outputs": [
        {
          "output_type": "execute_result",
          "data": {
            "text/plain": [
              "   id        date  store  item\n",
              "0   0  2018-01-01      1     1\n",
              "1   1  2018-01-02      1     1\n",
              "2   2  2018-01-03      1     1\n",
              "3   3  2018-01-04      1     1\n",
              "4   4  2018-01-05      1     1"
            ],
            "text/html": [
              "\n",
              "  <div id=\"df-3ed8174d-a2e0-4756-9792-63c14ff52440\">\n",
              "    <div class=\"colab-df-container\">\n",
              "      <div>\n",
              "<style scoped>\n",
              "    .dataframe tbody tr th:only-of-type {\n",
              "        vertical-align: middle;\n",
              "    }\n",
              "\n",
              "    .dataframe tbody tr th {\n",
              "        vertical-align: top;\n",
              "    }\n",
              "\n",
              "    .dataframe thead th {\n",
              "        text-align: right;\n",
              "    }\n",
              "</style>\n",
              "<table border=\"1\" class=\"dataframe\">\n",
              "  <thead>\n",
              "    <tr style=\"text-align: right;\">\n",
              "      <th></th>\n",
              "      <th>id</th>\n",
              "      <th>date</th>\n",
              "      <th>store</th>\n",
              "      <th>item</th>\n",
              "    </tr>\n",
              "  </thead>\n",
              "  <tbody>\n",
              "    <tr>\n",
              "      <th>0</th>\n",
              "      <td>0</td>\n",
              "      <td>2018-01-01</td>\n",
              "      <td>1</td>\n",
              "      <td>1</td>\n",
              "    </tr>\n",
              "    <tr>\n",
              "      <th>1</th>\n",
              "      <td>1</td>\n",
              "      <td>2018-01-02</td>\n",
              "      <td>1</td>\n",
              "      <td>1</td>\n",
              "    </tr>\n",
              "    <tr>\n",
              "      <th>2</th>\n",
              "      <td>2</td>\n",
              "      <td>2018-01-03</td>\n",
              "      <td>1</td>\n",
              "      <td>1</td>\n",
              "    </tr>\n",
              "    <tr>\n",
              "      <th>3</th>\n",
              "      <td>3</td>\n",
              "      <td>2018-01-04</td>\n",
              "      <td>1</td>\n",
              "      <td>1</td>\n",
              "    </tr>\n",
              "    <tr>\n",
              "      <th>4</th>\n",
              "      <td>4</td>\n",
              "      <td>2018-01-05</td>\n",
              "      <td>1</td>\n",
              "      <td>1</td>\n",
              "    </tr>\n",
              "  </tbody>\n",
              "</table>\n",
              "</div>\n",
              "      <button class=\"colab-df-convert\" onclick=\"convertToInteractive('df-3ed8174d-a2e0-4756-9792-63c14ff52440')\"\n",
              "              title=\"Convert this dataframe to an interactive table.\"\n",
              "              style=\"display:none;\">\n",
              "        \n",
              "  <svg xmlns=\"http://www.w3.org/2000/svg\" height=\"24px\"viewBox=\"0 0 24 24\"\n",
              "       width=\"24px\">\n",
              "    <path d=\"M0 0h24v24H0V0z\" fill=\"none\"/>\n",
              "    <path d=\"M18.56 5.44l.94 2.06.94-2.06 2.06-.94-2.06-.94-.94-2.06-.94 2.06-2.06.94zm-11 1L8.5 8.5l.94-2.06 2.06-.94-2.06-.94L8.5 2.5l-.94 2.06-2.06.94zm10 10l.94 2.06.94-2.06 2.06-.94-2.06-.94-.94-2.06-.94 2.06-2.06.94z\"/><path d=\"M17.41 7.96l-1.37-1.37c-.4-.4-.92-.59-1.43-.59-.52 0-1.04.2-1.43.59L10.3 9.45l-7.72 7.72c-.78.78-.78 2.05 0 2.83L4 21.41c.39.39.9.59 1.41.59.51 0 1.02-.2 1.41-.59l7.78-7.78 2.81-2.81c.8-.78.8-2.07 0-2.86zM5.41 20L4 18.59l7.72-7.72 1.47 1.35L5.41 20z\"/>\n",
              "  </svg>\n",
              "      </button>\n",
              "      \n",
              "  <style>\n",
              "    .colab-df-container {\n",
              "      display:flex;\n",
              "      flex-wrap:wrap;\n",
              "      gap: 12px;\n",
              "    }\n",
              "\n",
              "    .colab-df-convert {\n",
              "      background-color: #E8F0FE;\n",
              "      border: none;\n",
              "      border-radius: 50%;\n",
              "      cursor: pointer;\n",
              "      display: none;\n",
              "      fill: #1967D2;\n",
              "      height: 32px;\n",
              "      padding: 0 0 0 0;\n",
              "      width: 32px;\n",
              "    }\n",
              "\n",
              "    .colab-df-convert:hover {\n",
              "      background-color: #E2EBFA;\n",
              "      box-shadow: 0px 1px 2px rgba(60, 64, 67, 0.3), 0px 1px 3px 1px rgba(60, 64, 67, 0.15);\n",
              "      fill: #174EA6;\n",
              "    }\n",
              "\n",
              "    [theme=dark] .colab-df-convert {\n",
              "      background-color: #3B4455;\n",
              "      fill: #D2E3FC;\n",
              "    }\n",
              "\n",
              "    [theme=dark] .colab-df-convert:hover {\n",
              "      background-color: #434B5C;\n",
              "      box-shadow: 0px 1px 3px 1px rgba(0, 0, 0, 0.15);\n",
              "      filter: drop-shadow(0px 1px 2px rgba(0, 0, 0, 0.3));\n",
              "      fill: #FFFFFF;\n",
              "    }\n",
              "  </style>\n",
              "\n",
              "      <script>\n",
              "        const buttonEl =\n",
              "          document.querySelector('#df-3ed8174d-a2e0-4756-9792-63c14ff52440 button.colab-df-convert');\n",
              "        buttonEl.style.display =\n",
              "          google.colab.kernel.accessAllowed ? 'block' : 'none';\n",
              "\n",
              "        async function convertToInteractive(key) {\n",
              "          const element = document.querySelector('#df-3ed8174d-a2e0-4756-9792-63c14ff52440');\n",
              "          const dataTable =\n",
              "            await google.colab.kernel.invokeFunction('convertToInteractive',\n",
              "                                                     [key], {});\n",
              "          if (!dataTable) return;\n",
              "\n",
              "          const docLinkHtml = 'Like what you see? Visit the ' +\n",
              "            '<a target=\"_blank\" href=https://colab.research.google.com/notebooks/data_table.ipynb>data table notebook</a>'\n",
              "            + ' to learn more about interactive tables.';\n",
              "          element.innerHTML = '';\n",
              "          dataTable['output_type'] = 'display_data';\n",
              "          await google.colab.output.renderOutput(dataTable, element);\n",
              "          const docLink = document.createElement('div');\n",
              "          docLink.innerHTML = docLinkHtml;\n",
              "          element.appendChild(docLink);\n",
              "        }\n",
              "      </script>\n",
              "    </div>\n",
              "  </div>\n",
              "  "
            ]
          },
          "metadata": {},
          "execution_count": 10
        }
      ]
    },
    {
      "cell_type": "code",
      "source": [
        "test.tail()"
      ],
      "metadata": {
        "colab": {
          "base_uri": "https://localhost:8080/",
          "height": 206
        },
        "id": "KhfETrbREiPr",
        "outputId": "f41901db-9dfd-4683-889f-5fc021df4a1d"
      },
      "execution_count": 11,
      "outputs": [
        {
          "output_type": "execute_result",
          "data": {
            "text/plain": [
              "          id        date  store  item\n",
              "44995  44995  2018-03-27     10    50\n",
              "44996  44996  2018-03-28     10    50\n",
              "44997  44997  2018-03-29     10    50\n",
              "44998  44998  2018-03-30     10    50\n",
              "44999  44999  2018-03-31     10    50"
            ],
            "text/html": [
              "\n",
              "  <div id=\"df-c9177122-43ea-4a07-9e3b-8ade9693f9ff\">\n",
              "    <div class=\"colab-df-container\">\n",
              "      <div>\n",
              "<style scoped>\n",
              "    .dataframe tbody tr th:only-of-type {\n",
              "        vertical-align: middle;\n",
              "    }\n",
              "\n",
              "    .dataframe tbody tr th {\n",
              "        vertical-align: top;\n",
              "    }\n",
              "\n",
              "    .dataframe thead th {\n",
              "        text-align: right;\n",
              "    }\n",
              "</style>\n",
              "<table border=\"1\" class=\"dataframe\">\n",
              "  <thead>\n",
              "    <tr style=\"text-align: right;\">\n",
              "      <th></th>\n",
              "      <th>id</th>\n",
              "      <th>date</th>\n",
              "      <th>store</th>\n",
              "      <th>item</th>\n",
              "    </tr>\n",
              "  </thead>\n",
              "  <tbody>\n",
              "    <tr>\n",
              "      <th>44995</th>\n",
              "      <td>44995</td>\n",
              "      <td>2018-03-27</td>\n",
              "      <td>10</td>\n",
              "      <td>50</td>\n",
              "    </tr>\n",
              "    <tr>\n",
              "      <th>44996</th>\n",
              "      <td>44996</td>\n",
              "      <td>2018-03-28</td>\n",
              "      <td>10</td>\n",
              "      <td>50</td>\n",
              "    </tr>\n",
              "    <tr>\n",
              "      <th>44997</th>\n",
              "      <td>44997</td>\n",
              "      <td>2018-03-29</td>\n",
              "      <td>10</td>\n",
              "      <td>50</td>\n",
              "    </tr>\n",
              "    <tr>\n",
              "      <th>44998</th>\n",
              "      <td>44998</td>\n",
              "      <td>2018-03-30</td>\n",
              "      <td>10</td>\n",
              "      <td>50</td>\n",
              "    </tr>\n",
              "    <tr>\n",
              "      <th>44999</th>\n",
              "      <td>44999</td>\n",
              "      <td>2018-03-31</td>\n",
              "      <td>10</td>\n",
              "      <td>50</td>\n",
              "    </tr>\n",
              "  </tbody>\n",
              "</table>\n",
              "</div>\n",
              "      <button class=\"colab-df-convert\" onclick=\"convertToInteractive('df-c9177122-43ea-4a07-9e3b-8ade9693f9ff')\"\n",
              "              title=\"Convert this dataframe to an interactive table.\"\n",
              "              style=\"display:none;\">\n",
              "        \n",
              "  <svg xmlns=\"http://www.w3.org/2000/svg\" height=\"24px\"viewBox=\"0 0 24 24\"\n",
              "       width=\"24px\">\n",
              "    <path d=\"M0 0h24v24H0V0z\" fill=\"none\"/>\n",
              "    <path d=\"M18.56 5.44l.94 2.06.94-2.06 2.06-.94-2.06-.94-.94-2.06-.94 2.06-2.06.94zm-11 1L8.5 8.5l.94-2.06 2.06-.94-2.06-.94L8.5 2.5l-.94 2.06-2.06.94zm10 10l.94 2.06.94-2.06 2.06-.94-2.06-.94-.94-2.06-.94 2.06-2.06.94z\"/><path d=\"M17.41 7.96l-1.37-1.37c-.4-.4-.92-.59-1.43-.59-.52 0-1.04.2-1.43.59L10.3 9.45l-7.72 7.72c-.78.78-.78 2.05 0 2.83L4 21.41c.39.39.9.59 1.41.59.51 0 1.02-.2 1.41-.59l7.78-7.78 2.81-2.81c.8-.78.8-2.07 0-2.86zM5.41 20L4 18.59l7.72-7.72 1.47 1.35L5.41 20z\"/>\n",
              "  </svg>\n",
              "      </button>\n",
              "      \n",
              "  <style>\n",
              "    .colab-df-container {\n",
              "      display:flex;\n",
              "      flex-wrap:wrap;\n",
              "      gap: 12px;\n",
              "    }\n",
              "\n",
              "    .colab-df-convert {\n",
              "      background-color: #E8F0FE;\n",
              "      border: none;\n",
              "      border-radius: 50%;\n",
              "      cursor: pointer;\n",
              "      display: none;\n",
              "      fill: #1967D2;\n",
              "      height: 32px;\n",
              "      padding: 0 0 0 0;\n",
              "      width: 32px;\n",
              "    }\n",
              "\n",
              "    .colab-df-convert:hover {\n",
              "      background-color: #E2EBFA;\n",
              "      box-shadow: 0px 1px 2px rgba(60, 64, 67, 0.3), 0px 1px 3px 1px rgba(60, 64, 67, 0.15);\n",
              "      fill: #174EA6;\n",
              "    }\n",
              "\n",
              "    [theme=dark] .colab-df-convert {\n",
              "      background-color: #3B4455;\n",
              "      fill: #D2E3FC;\n",
              "    }\n",
              "\n",
              "    [theme=dark] .colab-df-convert:hover {\n",
              "      background-color: #434B5C;\n",
              "      box-shadow: 0px 1px 3px 1px rgba(0, 0, 0, 0.15);\n",
              "      filter: drop-shadow(0px 1px 2px rgba(0, 0, 0, 0.3));\n",
              "      fill: #FFFFFF;\n",
              "    }\n",
              "  </style>\n",
              "\n",
              "      <script>\n",
              "        const buttonEl =\n",
              "          document.querySelector('#df-c9177122-43ea-4a07-9e3b-8ade9693f9ff button.colab-df-convert');\n",
              "        buttonEl.style.display =\n",
              "          google.colab.kernel.accessAllowed ? 'block' : 'none';\n",
              "\n",
              "        async function convertToInteractive(key) {\n",
              "          const element = document.querySelector('#df-c9177122-43ea-4a07-9e3b-8ade9693f9ff');\n",
              "          const dataTable =\n",
              "            await google.colab.kernel.invokeFunction('convertToInteractive',\n",
              "                                                     [key], {});\n",
              "          if (!dataTable) return;\n",
              "\n",
              "          const docLinkHtml = 'Like what you see? Visit the ' +\n",
              "            '<a target=\"_blank\" href=https://colab.research.google.com/notebooks/data_table.ipynb>data table notebook</a>'\n",
              "            + ' to learn more about interactive tables.';\n",
              "          element.innerHTML = '';\n",
              "          dataTable['output_type'] = 'display_data';\n",
              "          await google.colab.output.renderOutput(dataTable, element);\n",
              "          const docLink = document.createElement('div');\n",
              "          docLink.innerHTML = docLinkHtml;\n",
              "          element.appendChild(docLink);\n",
              "        }\n",
              "      </script>\n",
              "    </div>\n",
              "  </div>\n",
              "  "
            ]
          },
          "metadata": {},
          "execution_count": 11
        }
      ]
    },
    {
      "cell_type": "markdown",
      "metadata": {
        "id": "9cQgRSt7TStt"
      },
      "source": [
        "Have four columns containing date,store,item and sales values"
      ]
    },
    {
      "cell_type": "markdown",
      "metadata": {
        "id": "9Z4Wls9gTebV"
      },
      "source": [
        "# EDA"
      ]
    },
    {
      "cell_type": "markdown",
      "source": [
        "Checking train data and test data shape"
      ],
      "metadata": {
        "id": "7d4b8kxMtz8f"
      }
    },
    {
      "cell_type": "code",
      "execution_count": 5,
      "metadata": {
        "colab": {
          "base_uri": "https://localhost:8080/"
        },
        "id": "NeGPpasXTFuA",
        "outputId": "faf227eb-5d04-46d0-8a57-fd189a789bd8"
      },
      "outputs": [
        {
          "output_type": "stream",
          "name": "stdout",
          "text": [
            "Train data:  (913000, 4)\n",
            "Test data:  (45000, 4)\n"
          ]
        }
      ],
      "source": [
        "print('Train data: ',train.shape)\n",
        "print('Test data: ',test.shape)"
      ]
    },
    {
      "cell_type": "code",
      "execution_count": 6,
      "metadata": {
        "colab": {
          "base_uri": "https://localhost:8080/"
        },
        "id": "yYGzA3s4cqVf",
        "outputId": "2dbb4317-4f8c-4a76-c72e-9d5b1c193a73"
      },
      "outputs": [
        {
          "output_type": "stream",
          "name": "stdout",
          "text": [
            "<class 'pandas.core.frame.DataFrame'>\n",
            "RangeIndex: 913000 entries, 0 to 912999\n",
            "Data columns (total 4 columns):\n",
            " #   Column  Non-Null Count   Dtype \n",
            "---  ------  --------------   ----- \n",
            " 0   date    913000 non-null  object\n",
            " 1   store   913000 non-null  int64 \n",
            " 2   item    913000 non-null  int64 \n",
            " 3   sales   913000 non-null  int64 \n",
            "dtypes: int64(3), object(1)\n",
            "memory usage: 27.9+ MB\n"
          ]
        }
      ],
      "source": [
        "# train data info\n",
        "train.info()"
      ]
    },
    {
      "cell_type": "markdown",
      "metadata": {
        "id": "MUVH-AuVTngk"
      },
      "source": [
        "Date column is object type all others are integer type\n"
      ]
    },
    {
      "cell_type": "code",
      "execution_count": null,
      "metadata": {
        "id": "JQBzCjaMWDg-"
      },
      "outputs": [],
      "source": [
        "#converting the date column from object type to datetype and storing it seperately\n",
        "tr_date = pd.DataFrame(pd.to_datetime(train['date']))\n"
      ]
    },
    {
      "cell_type": "code",
      "execution_count": null,
      "metadata": {
        "colab": {
          "base_uri": "https://localhost:8080/",
          "height": 423
        },
        "id": "dL80p9rxWieZ",
        "outputId": "5ac85512-3209-4fa8-d877-db921194a777"
      },
      "outputs": [
        {
          "data": {
            "text/html": [
              "\n",
              "  <div id=\"df-8116f61a-f9f7-456d-907d-f6ec6277990b\">\n",
              "    <div class=\"colab-df-container\">\n",
              "      <div>\n",
              "<style scoped>\n",
              "    .dataframe tbody tr th:only-of-type {\n",
              "        vertical-align: middle;\n",
              "    }\n",
              "\n",
              "    .dataframe tbody tr th {\n",
              "        vertical-align: top;\n",
              "    }\n",
              "\n",
              "    .dataframe thead th {\n",
              "        text-align: right;\n",
              "    }\n",
              "</style>\n",
              "<table border=\"1\" class=\"dataframe\">\n",
              "  <thead>\n",
              "    <tr style=\"text-align: right;\">\n",
              "      <th></th>\n",
              "      <th>date</th>\n",
              "    </tr>\n",
              "  </thead>\n",
              "  <tbody>\n",
              "    <tr>\n",
              "      <th>0</th>\n",
              "      <td>2013-01-01</td>\n",
              "    </tr>\n",
              "    <tr>\n",
              "      <th>1</th>\n",
              "      <td>2013-01-02</td>\n",
              "    </tr>\n",
              "    <tr>\n",
              "      <th>2</th>\n",
              "      <td>2013-01-03</td>\n",
              "    </tr>\n",
              "    <tr>\n",
              "      <th>3</th>\n",
              "      <td>2013-01-04</td>\n",
              "    </tr>\n",
              "    <tr>\n",
              "      <th>4</th>\n",
              "      <td>2013-01-05</td>\n",
              "    </tr>\n",
              "    <tr>\n",
              "      <th>...</th>\n",
              "      <td>...</td>\n",
              "    </tr>\n",
              "    <tr>\n",
              "      <th>912995</th>\n",
              "      <td>2017-12-27</td>\n",
              "    </tr>\n",
              "    <tr>\n",
              "      <th>912996</th>\n",
              "      <td>2017-12-28</td>\n",
              "    </tr>\n",
              "    <tr>\n",
              "      <th>912997</th>\n",
              "      <td>2017-12-29</td>\n",
              "    </tr>\n",
              "    <tr>\n",
              "      <th>912998</th>\n",
              "      <td>2017-12-30</td>\n",
              "    </tr>\n",
              "    <tr>\n",
              "      <th>912999</th>\n",
              "      <td>2017-12-31</td>\n",
              "    </tr>\n",
              "  </tbody>\n",
              "</table>\n",
              "<p>913000 rows × 1 columns</p>\n",
              "</div>\n",
              "      <button class=\"colab-df-convert\" onclick=\"convertToInteractive('df-8116f61a-f9f7-456d-907d-f6ec6277990b')\"\n",
              "              title=\"Convert this dataframe to an interactive table.\"\n",
              "              style=\"display:none;\">\n",
              "        \n",
              "  <svg xmlns=\"http://www.w3.org/2000/svg\" height=\"24px\"viewBox=\"0 0 24 24\"\n",
              "       width=\"24px\">\n",
              "    <path d=\"M0 0h24v24H0V0z\" fill=\"none\"/>\n",
              "    <path d=\"M18.56 5.44l.94 2.06.94-2.06 2.06-.94-2.06-.94-.94-2.06-.94 2.06-2.06.94zm-11 1L8.5 8.5l.94-2.06 2.06-.94-2.06-.94L8.5 2.5l-.94 2.06-2.06.94zm10 10l.94 2.06.94-2.06 2.06-.94-2.06-.94-.94-2.06-.94 2.06-2.06.94z\"/><path d=\"M17.41 7.96l-1.37-1.37c-.4-.4-.92-.59-1.43-.59-.52 0-1.04.2-1.43.59L10.3 9.45l-7.72 7.72c-.78.78-.78 2.05 0 2.83L4 21.41c.39.39.9.59 1.41.59.51 0 1.02-.2 1.41-.59l7.78-7.78 2.81-2.81c.8-.78.8-2.07 0-2.86zM5.41 20L4 18.59l7.72-7.72 1.47 1.35L5.41 20z\"/>\n",
              "  </svg>\n",
              "      </button>\n",
              "      \n",
              "  <style>\n",
              "    .colab-df-container {\n",
              "      display:flex;\n",
              "      flex-wrap:wrap;\n",
              "      gap: 12px;\n",
              "    }\n",
              "\n",
              "    .colab-df-convert {\n",
              "      background-color: #E8F0FE;\n",
              "      border: none;\n",
              "      border-radius: 50%;\n",
              "      cursor: pointer;\n",
              "      display: none;\n",
              "      fill: #1967D2;\n",
              "      height: 32px;\n",
              "      padding: 0 0 0 0;\n",
              "      width: 32px;\n",
              "    }\n",
              "\n",
              "    .colab-df-convert:hover {\n",
              "      background-color: #E2EBFA;\n",
              "      box-shadow: 0px 1px 2px rgba(60, 64, 67, 0.3), 0px 1px 3px 1px rgba(60, 64, 67, 0.15);\n",
              "      fill: #174EA6;\n",
              "    }\n",
              "\n",
              "    [theme=dark] .colab-df-convert {\n",
              "      background-color: #3B4455;\n",
              "      fill: #D2E3FC;\n",
              "    }\n",
              "\n",
              "    [theme=dark] .colab-df-convert:hover {\n",
              "      background-color: #434B5C;\n",
              "      box-shadow: 0px 1px 3px 1px rgba(0, 0, 0, 0.15);\n",
              "      filter: drop-shadow(0px 1px 2px rgba(0, 0, 0, 0.3));\n",
              "      fill: #FFFFFF;\n",
              "    }\n",
              "  </style>\n",
              "\n",
              "      <script>\n",
              "        const buttonEl =\n",
              "          document.querySelector('#df-8116f61a-f9f7-456d-907d-f6ec6277990b button.colab-df-convert');\n",
              "        buttonEl.style.display =\n",
              "          google.colab.kernel.accessAllowed ? 'block' : 'none';\n",
              "\n",
              "        async function convertToInteractive(key) {\n",
              "          const element = document.querySelector('#df-8116f61a-f9f7-456d-907d-f6ec6277990b');\n",
              "          const dataTable =\n",
              "            await google.colab.kernel.invokeFunction('convertToInteractive',\n",
              "                                                     [key], {});\n",
              "          if (!dataTable) return;\n",
              "\n",
              "          const docLinkHtml = 'Like what you see? Visit the ' +\n",
              "            '<a target=\"_blank\" href=https://colab.research.google.com/notebooks/data_table.ipynb>data table notebook</a>'\n",
              "            + ' to learn more about interactive tables.';\n",
              "          element.innerHTML = '';\n",
              "          dataTable['output_type'] = 'display_data';\n",
              "          await google.colab.output.renderOutput(dataTable, element);\n",
              "          const docLink = document.createElement('div');\n",
              "          docLink.innerHTML = docLinkHtml;\n",
              "          element.appendChild(docLink);\n",
              "        }\n",
              "      </script>\n",
              "    </div>\n",
              "  </div>\n",
              "  "
            ],
            "text/plain": [
              "             date\n",
              "0      2013-01-01\n",
              "1      2013-01-02\n",
              "2      2013-01-03\n",
              "3      2013-01-04\n",
              "4      2013-01-05\n",
              "...           ...\n",
              "912995 2017-12-27\n",
              "912996 2017-12-28\n",
              "912997 2017-12-29\n",
              "912998 2017-12-30\n",
              "912999 2017-12-31\n",
              "\n",
              "[913000 rows x 1 columns]"
            ]
          },
          "execution_count": 9,
          "metadata": {},
          "output_type": "execute_result"
        }
      ],
      "source": [
        "tr_date"
      ]
    },
    {
      "cell_type": "markdown",
      "metadata": {
        "id": "cf8h3jQRXXaB"
      },
      "source": [
        "Here we can see that the train data has sales data from year 2013 to 2017 and for each day"
      ]
    },
    {
      "cell_type": "code",
      "execution_count": null,
      "metadata": {
        "colab": {
          "base_uri": "https://localhost:8080/"
        },
        "id": "aMNsRcf733U6",
        "outputId": "8c2daaff-7447-4854-ecde-c8518ea5a6da"
      },
      "outputs": [
        {
          "data": {
            "text/plain": [
              "count    913000.000000\n",
              "mean         52.250287\n",
              "std          28.801144\n",
              "min           0.000000\n",
              "25%          30.000000\n",
              "50%          47.000000\n",
              "75%          70.000000\n",
              "max         231.000000\n",
              "Name: sales, dtype: float64"
            ]
          },
          "execution_count": 10,
          "metadata": {},
          "output_type": "execute_result"
        }
      ],
      "source": [
        "train['sales'].describe()"
      ]
    },
    {
      "cell_type": "markdown",
      "metadata": {
        "id": "M8YGZQUGTw6q"
      },
      "source": [
        "Sales is the only continuous column: It has a minimum value of 0 and a maximum of 231 and its mean value is 52.25"
      ]
    },
    {
      "cell_type": "code",
      "execution_count": null,
      "metadata": {
        "colab": {
          "base_uri": "https://localhost:8080/",
          "height": 297
        },
        "id": "YP6SF80K35f2",
        "outputId": "16f510c7-bd1e-4c3f-ba5f-6ca82eef8dfc"
      },
      "outputs": [
        {
          "data": {
            "text/plain": [
              "<matplotlib.axes._subplots.AxesSubplot at 0x7fb4eec2f4d0>"
            ]
          },
          "execution_count": 11,
          "metadata": {},
          "output_type": "execute_result"
        },
        {
          "data": {
            "image/png": "[encoded data removed]",
            "text/plain": [
              "<Figure size 432x288 with 1 Axes>"
            ]
          },
          "metadata": {},
          "output_type": "display_data"
        }
      ],
      "source": [
        "\n",
        "sns.histplot(train['sales'])"
      ]
    },
    {
      "cell_type": "markdown",
      "metadata": {
        "id": "ZfnPpbWAUZ5m"
      },
      "source": [
        "Sales data is right skewed"
      ]
    },
    {
      "cell_type": "code",
      "execution_count": null,
      "metadata": {
        "colab": {
          "base_uri": "https://localhost:8080/"
        },
        "id": "42bGcabLUY4U",
        "outputId": "b49ccaaf-aea0-47a1-a822-36a7a7b86a46"
      },
      "outputs": [
        {
          "name": "stdout",
          "output_type": "stream",
          "text": [
            "Unique Stores in train data : [ 1  2  3  4  5  6  7  8  9 10]\n",
            "Unique Items in train data:  [ 1  2  3  4  5  6  7  8  9 10 11 12 13 14 15 16 17 18 19 20 21 22 23 24\n",
            " 25 26 27 28 29 30 31 32 33 34 35 36 37 38 39 40 41 42 43 44 45 46 47 48\n",
            " 49 50]\n"
          ]
        }
      ],
      "source": [
        "#checking how many unique stores and items are present\n",
        "print('Unique Stores in train data :',train['store'].unique())\n",
        "print('Unique Items in train data: ',train['item'].unique())"
      ]
    },
    {
      "cell_type": "code",
      "execution_count": null,
      "metadata": {
        "colab": {
          "base_uri": "https://localhost:8080/"
        },
        "id": "xwGC3KR5U-L-",
        "outputId": "abac0341-8084-4158-a173-0e6bf216fa7b"
      },
      "outputs": [
        {
          "name": "stdout",
          "output_type": "stream",
          "text": [
            "Unique Stores in test data : [ 1  2  3  4  5  6  7  8  9 10]\n",
            "Unique Items in test data:  [ 1  2  3  4  5  6  7  8  9 10 11 12 13 14 15 16 17 18 19 20 21 22 23 24\n",
            " 25 26 27 28 29 30 31 32 33 34 35 36 37 38 39 40 41 42 43 44 45 46 47 48\n",
            " 49 50]\n"
          ]
        }
      ],
      "source": [
        "print('Unique Stores in test data :',test['store'].unique())\n",
        "print('Unique Items in test data: ',test['item'].unique())"
      ]
    },
    {
      "cell_type": "markdown",
      "metadata": {
        "id": "i5YERGtNVEqz"
      },
      "source": [
        "Both train and test data contains 10 unique stores and 50 unique items."
      ]
    },
    {
      "cell_type": "code",
      "execution_count": null,
      "metadata": {
        "colab": {
          "base_uri": "https://localhost:8080/"
        },
        "id": "U0fltp624G3n",
        "outputId": "7e1b395c-a13e-4133-ead4-72196deb1400"
      },
      "outputs": [
        {
          "data": {
            "text/plain": [
              "1     91300\n",
              "2     91300\n",
              "3     91300\n",
              "4     91300\n",
              "5     91300\n",
              "6     91300\n",
              "7     91300\n",
              "8     91300\n",
              "9     91300\n",
              "10    91300\n",
              "Name: store, dtype: int64"
            ]
          },
          "execution_count": 14,
          "metadata": {},
          "output_type": "execute_result"
        }
      ],
      "source": [
        "#distribution of stores and items\n",
        "train['store'].value_counts()"
      ]
    },
    {
      "cell_type": "code",
      "execution_count": null,
      "metadata": {
        "colab": {
          "base_uri": "https://localhost:8080/"
        },
        "id": "JpDmUdbfVY7y",
        "outputId": "81aab36c-4e7d-41e4-a42e-efa11a906bb8"
      },
      "outputs": [
        {
          "data": {
            "text/plain": [
              "1     18260\n",
              "38    18260\n",
              "28    18260\n",
              "29    18260\n",
              "30    18260\n",
              "31    18260\n",
              "32    18260\n",
              "33    18260\n",
              "34    18260\n",
              "35    18260\n",
              "36    18260\n",
              "37    18260\n",
              "39    18260\n",
              "2     18260\n",
              "40    18260\n",
              "41    18260\n",
              "42    18260\n",
              "43    18260\n",
              "44    18260\n",
              "45    18260\n",
              "46    18260\n",
              "47    18260\n",
              "48    18260\n",
              "49    18260\n",
              "27    18260\n",
              "26    18260\n",
              "25    18260\n",
              "24    18260\n",
              "3     18260\n",
              "4     18260\n",
              "5     18260\n",
              "6     18260\n",
              "7     18260\n",
              "8     18260\n",
              "9     18260\n",
              "10    18260\n",
              "11    18260\n",
              "12    18260\n",
              "13    18260\n",
              "14    18260\n",
              "15    18260\n",
              "16    18260\n",
              "17    18260\n",
              "18    18260\n",
              "19    18260\n",
              "20    18260\n",
              "21    18260\n",
              "22    18260\n",
              "23    18260\n",
              "50    18260\n",
              "Name: item, dtype: int64"
            ]
          },
          "execution_count": 15,
          "metadata": {},
          "output_type": "execute_result"
        }
      ],
      "source": [
        "train['item'].value_counts()"
      ]
    },
    {
      "cell_type": "markdown",
      "metadata": {
        "id": "7vPKF-2zVlPk"
      },
      "source": [
        "Each store have 91300 rows and each item have 18260 rows assigned to them\n"
      ]
    },
    {
      "cell_type": "code",
      "execution_count": null,
      "metadata": {
        "id": "S2ZMHGndYa--"
      },
      "outputs": [],
      "source": [
        ""
      ]
    },
    {
      "cell_type": "markdown",
      "metadata": {
        "id": "CEgJ-VALYbh0"
      },
      "source": [
        "# Missing values"
      ]
    },
    {
      "cell_type": "code",
      "execution_count": null,
      "metadata": {
        "colab": {
          "base_uri": "https://localhost:8080/"
        },
        "id": "ssapLy11PJy0",
        "outputId": "76fc3756-b9a3-4c74-f926-d51f8b0351d3"
      },
      "outputs": [
        {
          "data": {
            "text/plain": [
              "date     0\n",
              "store    0\n",
              "item     0\n",
              "sales    0\n",
              "dtype: int64"
            ]
          },
          "execution_count": 16,
          "metadata": {},
          "output_type": "execute_result"
        }
      ],
      "source": [
        "train.isnull().sum()"
      ]
    },
    {
      "cell_type": "code",
      "execution_count": null,
      "metadata": {
        "colab": {
          "base_uri": "https://localhost:8080/"
        },
        "id": "i1oxK14XPR4k",
        "outputId": "cfe76955-859a-4c1d-ca7e-35291897feb5"
      },
      "outputs": [
        {
          "data": {
            "text/plain": [
              "id       0\n",
              "date     0\n",
              "store    0\n",
              "item     0\n",
              "dtype: int64"
            ]
          },
          "execution_count": 17,
          "metadata": {},
          "output_type": "execute_result"
        }
      ],
      "source": [
        "test.isnull().sum()"
      ]
    },
    {
      "cell_type": "markdown",
      "metadata": {
        "id": "PGg77u2rYkCX"
      },
      "source": [
        "No null values found in both train and test data"
      ]
    },
    {
      "cell_type": "markdown",
      "metadata": {
        "id": "yDCq_ZtvdOXS"
      },
      "source": [
        "# Plotting Sales "
      ]
    },
    {
      "cell_type": "code",
      "execution_count": null,
      "metadata": {
        "id": "jIxpoqUbdMrZ"
      },
      "outputs": [],
      "source": [
        "train.index=pd.to_datetime(train['date'],format='%Y-%m-%d')"
      ]
    },
    {
      "cell_type": "code",
      "execution_count": 7,
      "metadata": {
        "colab": {
          "base_uri": "https://localhost:8080/",
          "height": 423
        },
        "id": "SkOdl4_ldMvs",
        "outputId": "f9ddbeb2-bdcf-4469-e238-b208259f4e06"
      },
      "outputs": [
        {
          "output_type": "execute_result",
          "data": {
            "text/plain": [
              "              date  store  item  sales\n",
              "0       2013-01-01      1     1     13\n",
              "1       2013-01-02      1     1     11\n",
              "2       2013-01-03      1     1     14\n",
              "3       2013-01-04      1     1     13\n",
              "4       2013-01-05      1     1     10\n",
              "...            ...    ...   ...    ...\n",
              "912995  2017-12-27     10    50     63\n",
              "912996  2017-12-28     10    50     59\n",
              "912997  2017-12-29     10    50     74\n",
              "912998  2017-12-30     10    50     62\n",
              "912999  2017-12-31     10    50     82\n",
              "\n",
              "[913000 rows x 4 columns]"
            ],
            "text/html": [
              "\n",
              "  <div id=\"df-8c6e3666-1242-4601-a9bf-6adede42262a\">\n",
              "    <div class=\"colab-df-container\">\n",
              "      <div>\n",
              "<style scoped>\n",
              "    .dataframe tbody tr th:only-of-type {\n",
              "        vertical-align: middle;\n",
              "    }\n",
              "\n",
              "    .dataframe tbody tr th {\n",
              "        vertical-align: top;\n",
              "    }\n",
              "\n",
              "    .dataframe thead th {\n",
              "        text-align: right;\n",
              "    }\n",
              "</style>\n",
              "<table border=\"1\" class=\"dataframe\">\n",
              "  <thead>\n",
              "    <tr style=\"text-align: right;\">\n",
              "      <th></th>\n",
              "      <th>date</th>\n",
              "      <th>store</th>\n",
              "      <th>item</th>\n",
              "      <th>sales</th>\n",
              "    </tr>\n",
              "  </thead>\n",
              "  <tbody>\n",
              "    <tr>\n",
              "      <th>0</th>\n",
              "      <td>2013-01-01</td>\n",
              "      <td>1</td>\n",
              "      <td>1</td>\n",
              "      <td>13</td>\n",
              "    </tr>\n",
              "    <tr>\n",
              "      <th>1</th>\n",
              "      <td>2013-01-02</td>\n",
              "      <td>1</td>\n",
              "      <td>1</td>\n",
              "      <td>11</td>\n",
              "    </tr>\n",
              "    <tr>\n",
              "      <th>2</th>\n",
              "      <td>2013-01-03</td>\n",
              "      <td>1</td>\n",
              "      <td>1</td>\n",
              "      <td>14</td>\n",
              "    </tr>\n",
              "    <tr>\n",
              "      <th>3</th>\n",
              "      <td>2013-01-04</td>\n",
              "      <td>1</td>\n",
              "      <td>1</td>\n",
              "      <td>13</td>\n",
              "    </tr>\n",
              "    <tr>\n",
              "      <th>4</th>\n",
              "      <td>2013-01-05</td>\n",
              "      <td>1</td>\n",
              "      <td>1</td>\n",
              "      <td>10</td>\n",
              "    </tr>\n",
              "    <tr>\n",
              "      <th>...</th>\n",
              "      <td>...</td>\n",
              "      <td>...</td>\n",
              "      <td>...</td>\n",
              "      <td>...</td>\n",
              "    </tr>\n",
              "    <tr>\n",
              "      <th>912995</th>\n",
              "      <td>2017-12-27</td>\n",
              "      <td>10</td>\n",
              "      <td>50</td>\n",
              "      <td>63</td>\n",
              "    </tr>\n",
              "    <tr>\n",
              "      <th>912996</th>\n",
              "      <td>2017-12-28</td>\n",
              "      <td>10</td>\n",
              "      <td>50</td>\n",
              "      <td>59</td>\n",
              "    </tr>\n",
              "    <tr>\n",
              "      <th>912997</th>\n",
              "      <td>2017-12-29</td>\n",
              "      <td>10</td>\n",
              "      <td>50</td>\n",
              "      <td>74</td>\n",
              "    </tr>\n",
              "    <tr>\n",
              "      <th>912998</th>\n",
              "      <td>2017-12-30</td>\n",
              "      <td>10</td>\n",
              "      <td>50</td>\n",
              "      <td>62</td>\n",
              "    </tr>\n",
              "    <tr>\n",
              "      <th>912999</th>\n",
              "      <td>2017-12-31</td>\n",
              "      <td>10</td>\n",
              "      <td>50</td>\n",
              "      <td>82</td>\n",
              "    </tr>\n",
              "  </tbody>\n",
              "</table>\n",
              "<p>913000 rows × 4 columns</p>\n",
              "</div>\n",
              "      <button class=\"colab-df-convert\" onclick=\"convertToInteractive('df-8c6e3666-1242-4601-a9bf-6adede42262a')\"\n",
              "              title=\"Convert this dataframe to an interactive table.\"\n",
              "              style=\"display:none;\">\n",
              "        \n",
              "  <svg xmlns=\"http://www.w3.org/2000/svg\" height=\"24px\"viewBox=\"0 0 24 24\"\n",
              "       width=\"24px\">\n",
              "    <path d=\"M0 0h24v24H0V0z\" fill=\"none\"/>\n",
              "    <path d=\"M18.56 5.44l.94 2.06.94-2.06 2.06-.94-2.06-.94-.94-2.06-.94 2.06-2.06.94zm-11 1L8.5 8.5l.94-2.06 2.06-.94-2.06-.94L8.5 2.5l-.94 2.06-2.06.94zm10 10l.94 2.06.94-2.06 2.06-.94-2.06-.94-.94-2.06-.94 2.06-2.06.94z\"/><path d=\"M17.41 7.96l-1.37-1.37c-.4-.4-.92-.59-1.43-.59-.52 0-1.04.2-1.43.59L10.3 9.45l-7.72 7.72c-.78.78-.78 2.05 0 2.83L4 21.41c.39.39.9.59 1.41.59.51 0 1.02-.2 1.41-.59l7.78-7.78 2.81-2.81c.8-.78.8-2.07 0-2.86zM5.41 20L4 18.59l7.72-7.72 1.47 1.35L5.41 20z\"/>\n",
              "  </svg>\n",
              "      </button>\n",
              "      \n",
              "  <style>\n",
              "    .colab-df-container {\n",
              "      display:flex;\n",
              "      flex-wrap:wrap;\n",
              "      gap: 12px;\n",
              "    }\n",
              "\n",
              "    .colab-df-convert {\n",
              "      background-color: #E8F0FE;\n",
              "      border: none;\n",
              "      border-radius: 50%;\n",
              "      cursor: pointer;\n",
              "      display: none;\n",
              "      fill: #1967D2;\n",
              "      height: 32px;\n",
              "      padding: 0 0 0 0;\n",
              "      width: 32px;\n",
              "    }\n",
              "\n",
              "    .colab-df-convert:hover {\n",
              "      background-color: #E2EBFA;\n",
              "      box-shadow: 0px 1px 2px rgba(60, 64, 67, 0.3), 0px 1px 3px 1px rgba(60, 64, 67, 0.15);\n",
              "      fill: #174EA6;\n",
              "    }\n",
              "\n",
              "    [theme=dark] .colab-df-convert {\n",
              "      background-color: #3B4455;\n",
              "      fill: #D2E3FC;\n",
              "    }\n",
              "\n",
              "    [theme=dark] .colab-df-convert:hover {\n",
              "      background-color: #434B5C;\n",
              "      box-shadow: 0px 1px 3px 1px rgba(0, 0, 0, 0.15);\n",
              "      filter: drop-shadow(0px 1px 2px rgba(0, 0, 0, 0.3));\n",
              "      fill: #FFFFFF;\n",
              "    }\n",
              "  </style>\n",
              "\n",
              "      <script>\n",
              "        const buttonEl =\n",
              "          document.querySelector('#df-8c6e3666-1242-4601-a9bf-6adede42262a button.colab-df-convert');\n",
              "        buttonEl.style.display =\n",
              "          google.colab.kernel.accessAllowed ? 'block' : 'none';\n",
              "\n",
              "        async function convertToInteractive(key) {\n",
              "          const element = document.querySelector('#df-8c6e3666-1242-4601-a9bf-6adede42262a');\n",
              "          const dataTable =\n",
              "            await google.colab.kernel.invokeFunction('convertToInteractive',\n",
              "                                                     [key], {});\n",
              "          if (!dataTable) return;\n",
              "\n",
              "          const docLinkHtml = 'Like what you see? Visit the ' +\n",
              "            '<a target=\"_blank\" href=https://colab.research.google.com/notebooks/data_table.ipynb>data table notebook</a>'\n",
              "            + ' to learn more about interactive tables.';\n",
              "          element.innerHTML = '';\n",
              "          dataTable['output_type'] = 'display_data';\n",
              "          await google.colab.output.renderOutput(dataTable, element);\n",
              "          const docLink = document.createElement('div');\n",
              "          docLink.innerHTML = docLinkHtml;\n",
              "          element.appendChild(docLink);\n",
              "        }\n",
              "      </script>\n",
              "    </div>\n",
              "  </div>\n",
              "  "
            ]
          },
          "metadata": {},
          "execution_count": 7
        }
      ],
      "source": [
        "train"
      ]
    },
    {
      "cell_type": "code",
      "execution_count": null,
      "metadata": {
        "id": "bhOXlS0ndM4B"
      },
      "outputs": [],
      "source": [
        "sns.set()"
      ]
    },
    {
      "cell_type": "code",
      "execution_count": null,
      "metadata": {
        "colab": {
          "base_uri": "https://localhost:8080/",
          "height": 428
        },
        "id": "DOHIjMNwjLBG",
        "outputId": "6f3113f0-deb6-4cbd-d92a-8120f97c2e76"
      },
      "outputs": [
        {
          "data": {
            "text/plain": [
              "[<matplotlib.lines.Line2D at 0x7fb4edbae0d0>]"
            ]
          },
          "execution_count": 22,
          "metadata": {},
          "output_type": "execute_result"
        },
        {
          "data": {
            "image/png": "[encoded data removed]",
            "text/plain": [
              "<Figure size 720x432 with 1 Axes>"
            ]
          },
          "metadata": {},
          "output_type": "display_data"
        }
      ],
      "source": [
        "plt.figure(figsize=(10,6))\n",
        "plt.ylabel('Sales')\n",
        "plt.xlabel('Date')\n",
        "plt.xticks(rotation=45)\n",
        "plt.plot(train.index,train['sales'],)"
      ]
    },
    {
      "cell_type": "code",
      "execution_count": null,
      "metadata": {
        "id": "P_6H2NGPjR0C"
      },
      "outputs": [],
      "source": [
        ""
      ]
    },
    {
      "cell_type": "markdown",
      "metadata": {
        "id": "Ojt3mVBUFXmk"
      },
      "source": [
        "# Feature engineering"
      ]
    },
    {
      "cell_type": "markdown",
      "metadata": {
        "id": "4wwK-HMhEnpL"
      },
      "source": [
        "Creating seperate columns for Year, month,day from the date column"
      ]
    },
    {
      "cell_type": "code",
      "execution_count": null,
      "metadata": {
        "id": "VAZHzO2gGDu7"
      },
      "outputs": [],
      "source": [
        "train['date']=pd.to_datetime(train['date'],format='%Y-%m-%d')"
      ]
    },
    {
      "cell_type": "code",
      "execution_count": null,
      "metadata": {
        "colab": {
          "base_uri": "https://localhost:8080/"
        },
        "id": "PQq4k3rdEmNN",
        "outputId": "18b84fe2-04df-4b5d-a873-62ccc4b83bff"
      },
      "outputs": [
        {
          "name": "stderr",
          "output_type": "stream",
          "text": [
            "/usr/local/lib/python3.7/dist-packages/ipykernel_launcher.py:4: FutureWarning: weekofyear and week have been deprecated, please use DatetimeIndex.isocalendar().week instead, which returns a Series.  To exactly reproduce the behavior of week and weekofyear and return an Index, you may call pd.Int64Index(idx.isocalendar().week)\n",
            "  after removing the cwd from sys.path.\n"
          ]
        }
      ],
      "source": [
        "train['Month']=train.date.dt.month\n",
        "train['Year']=train.date.dt.year\n",
        "train['Day'] = train.index.day\n",
        "train['WeekOfYear'] = train.index.weekofyear\n",
        "train['DayOfWeek'] = train.index.dayofweek\n",
        "train['is_month_start'] = train.index.is_month_start\n",
        "train['is_month_end'] = train.index.is_month_end\n",
        "\n",
        "train['days_from_epoch'] = (train.index - pd.Timestamp(\"1970-01-01\")).days"
      ]
    },
    {
      "cell_type": "code",
      "execution_count": null,
      "metadata": {
        "colab": {
          "base_uri": "https://localhost:8080/",
          "height": 455
        },
        "id": "H50Y78DlEmTf",
        "outputId": "d9cc93db-403d-4e06-b9a8-360119068d5a"
      },
      "outputs": [
        {
          "data": {
            "text/html": [
              "\n",
              "  <div id=\"df-249f432e-c1d5-4c79-8d4b-8f4efac915b2\">\n",
              "    <div class=\"colab-df-container\">\n",
              "      <div>\n",
              "<style scoped>\n",
              "    .dataframe tbody tr th:only-of-type {\n",
              "        vertical-align: middle;\n",
              "    }\n",
              "\n",
              "    .dataframe tbody tr th {\n",
              "        vertical-align: top;\n",
              "    }\n",
              "\n",
              "    .dataframe thead th {\n",
              "        text-align: right;\n",
              "    }\n",
              "</style>\n",
              "<table border=\"1\" class=\"dataframe\">\n",
              "  <thead>\n",
              "    <tr style=\"text-align: right;\">\n",
              "      <th></th>\n",
              "      <th>date</th>\n",
              "      <th>store</th>\n",
              "      <th>item</th>\n",
              "      <th>sales</th>\n",
              "      <th>Month</th>\n",
              "      <th>Year</th>\n",
              "      <th>Day</th>\n",
              "      <th>WeekOfYear</th>\n",
              "      <th>DayOfWeek</th>\n",
              "      <th>is_month_start</th>\n",
              "      <th>is_month_end</th>\n",
              "      <th>days_from_epoch</th>\n",
              "    </tr>\n",
              "    <tr>\n",
              "      <th>date</th>\n",
              "      <th></th>\n",
              "      <th></th>\n",
              "      <th></th>\n",
              "      <th></th>\n",
              "      <th></th>\n",
              "      <th></th>\n",
              "      <th></th>\n",
              "      <th></th>\n",
              "      <th></th>\n",
              "      <th></th>\n",
              "      <th></th>\n",
              "      <th></th>\n",
              "    </tr>\n",
              "  </thead>\n",
              "  <tbody>\n",
              "    <tr>\n",
              "      <th>2013-01-01</th>\n",
              "      <td>2013-01-01</td>\n",
              "      <td>1</td>\n",
              "      <td>1</td>\n",
              "      <td>13</td>\n",
              "      <td>1</td>\n",
              "      <td>2013</td>\n",
              "      <td>1</td>\n",
              "      <td>1</td>\n",
              "      <td>1</td>\n",
              "      <td>True</td>\n",
              "      <td>False</td>\n",
              "      <td>15706</td>\n",
              "    </tr>\n",
              "    <tr>\n",
              "      <th>2013-01-02</th>\n",
              "      <td>2013-01-02</td>\n",
              "      <td>1</td>\n",
              "      <td>1</td>\n",
              "      <td>11</td>\n",
              "      <td>1</td>\n",
              "      <td>2013</td>\n",
              "      <td>2</td>\n",
              "      <td>1</td>\n",
              "      <td>2</td>\n",
              "      <td>False</td>\n",
              "      <td>False</td>\n",
              "      <td>15707</td>\n",
              "    </tr>\n",
              "    <tr>\n",
              "      <th>2013-01-03</th>\n",
              "      <td>2013-01-03</td>\n",
              "      <td>1</td>\n",
              "      <td>1</td>\n",
              "      <td>14</td>\n",
              "      <td>1</td>\n",
              "      <td>2013</td>\n",
              "      <td>3</td>\n",
              "      <td>1</td>\n",
              "      <td>3</td>\n",
              "      <td>False</td>\n",
              "      <td>False</td>\n",
              "      <td>15708</td>\n",
              "    </tr>\n",
              "    <tr>\n",
              "      <th>2013-01-04</th>\n",
              "      <td>2013-01-04</td>\n",
              "      <td>1</td>\n",
              "      <td>1</td>\n",
              "      <td>13</td>\n",
              "      <td>1</td>\n",
              "      <td>2013</td>\n",
              "      <td>4</td>\n",
              "      <td>1</td>\n",
              "      <td>4</td>\n",
              "      <td>False</td>\n",
              "      <td>False</td>\n",
              "      <td>15709</td>\n",
              "    </tr>\n",
              "    <tr>\n",
              "      <th>2013-01-05</th>\n",
              "      <td>2013-01-05</td>\n",
              "      <td>1</td>\n",
              "      <td>1</td>\n",
              "      <td>10</td>\n",
              "      <td>1</td>\n",
              "      <td>2013</td>\n",
              "      <td>5</td>\n",
              "      <td>1</td>\n",
              "      <td>5</td>\n",
              "      <td>False</td>\n",
              "      <td>False</td>\n",
              "      <td>15710</td>\n",
              "    </tr>\n",
              "    <tr>\n",
              "      <th>...</th>\n",
              "      <td>...</td>\n",
              "      <td>...</td>\n",
              "      <td>...</td>\n",
              "      <td>...</td>\n",
              "      <td>...</td>\n",
              "      <td>...</td>\n",
              "      <td>...</td>\n",
              "      <td>...</td>\n",
              "      <td>...</td>\n",
              "      <td>...</td>\n",
              "      <td>...</td>\n",
              "      <td>...</td>\n",
              "    </tr>\n",
              "    <tr>\n",
              "      <th>2017-12-27</th>\n",
              "      <td>2017-12-27</td>\n",
              "      <td>10</td>\n",
              "      <td>50</td>\n",
              "      <td>63</td>\n",
              "      <td>12</td>\n",
              "      <td>2017</td>\n",
              "      <td>27</td>\n",
              "      <td>52</td>\n",
              "      <td>2</td>\n",
              "      <td>False</td>\n",
              "      <td>False</td>\n",
              "      <td>17527</td>\n",
              "    </tr>\n",
              "    <tr>\n",
              "      <th>2017-12-28</th>\n",
              "      <td>2017-12-28</td>\n",
              "      <td>10</td>\n",
              "      <td>50</td>\n",
              "      <td>59</td>\n",
              "      <td>12</td>\n",
              "      <td>2017</td>\n",
              "      <td>28</td>\n",
              "      <td>52</td>\n",
              "      <td>3</td>\n",
              "      <td>False</td>\n",
              "      <td>False</td>\n",
              "      <td>17528</td>\n",
              "    </tr>\n",
              "    <tr>\n",
              "      <th>2017-12-29</th>\n",
              "      <td>2017-12-29</td>\n",
              "      <td>10</td>\n",
              "      <td>50</td>\n",
              "      <td>74</td>\n",
              "      <td>12</td>\n",
              "      <td>2017</td>\n",
              "      <td>29</td>\n",
              "      <td>52</td>\n",
              "      <td>4</td>\n",
              "      <td>False</td>\n",
              "      <td>False</td>\n",
              "      <td>17529</td>\n",
              "    </tr>\n",
              "    <tr>\n",
              "      <th>2017-12-30</th>\n",
              "      <td>2017-12-30</td>\n",
              "      <td>10</td>\n",
              "      <td>50</td>\n",
              "      <td>62</td>\n",
              "      <td>12</td>\n",
              "      <td>2017</td>\n",
              "      <td>30</td>\n",
              "      <td>52</td>\n",
              "      <td>5</td>\n",
              "      <td>False</td>\n",
              "      <td>False</td>\n",
              "      <td>17530</td>\n",
              "    </tr>\n",
              "    <tr>\n",
              "      <th>2017-12-31</th>\n",
              "      <td>2017-12-31</td>\n",
              "      <td>10</td>\n",
              "      <td>50</td>\n",
              "      <td>82</td>\n",
              "      <td>12</td>\n",
              "      <td>2017</td>\n",
              "      <td>31</td>\n",
              "      <td>52</td>\n",
              "      <td>6</td>\n",
              "      <td>False</td>\n",
              "      <td>True</td>\n",
              "      <td>17531</td>\n",
              "    </tr>\n",
              "  </tbody>\n",
              "</table>\n",
              "<p>913000 rows × 12 columns</p>\n",
              "</div>\n",
              "      <button class=\"colab-df-convert\" onclick=\"convertToInteractive('df-249f432e-c1d5-4c79-8d4b-8f4efac915b2')\"\n",
              "              title=\"Convert this dataframe to an interactive table.\"\n",
              "              style=\"display:none;\">\n",
              "        \n",
              "  <svg xmlns=\"http://www.w3.org/2000/svg\" height=\"24px\"viewBox=\"0 0 24 24\"\n",
              "       width=\"24px\">\n",
              "    <path d=\"M0 0h24v24H0V0z\" fill=\"none\"/>\n",
              "    <path d=\"M18.56 5.44l.94 2.06.94-2.06 2.06-.94-2.06-.94-.94-2.06-.94 2.06-2.06.94zm-11 1L8.5 8.5l.94-2.06 2.06-.94-2.06-.94L8.5 2.5l-.94 2.06-2.06.94zm10 10l.94 2.06.94-2.06 2.06-.94-2.06-.94-.94-2.06-.94 2.06-2.06.94z\"/><path d=\"M17.41 7.96l-1.37-1.37c-.4-.4-.92-.59-1.43-.59-.52 0-1.04.2-1.43.59L10.3 9.45l-7.72 7.72c-.78.78-.78 2.05 0 2.83L4 21.41c.39.39.9.59 1.41.59.51 0 1.02-.2 1.41-.59l7.78-7.78 2.81-2.81c.8-.78.8-2.07 0-2.86zM5.41 20L4 18.59l7.72-7.72 1.47 1.35L5.41 20z\"/>\n",
              "  </svg>\n",
              "      </button>\n",
              "      \n",
              "  <style>\n",
              "    .colab-df-container {\n",
              "      display:flex;\n",
              "      flex-wrap:wrap;\n",
              "      gap: 12px;\n",
              "    }\n",
              "\n",
              "    .colab-df-convert {\n",
              "      background-color: #E8F0FE;\n",
              "      border: none;\n",
              "      border-radius: 50%;\n",
              "      cursor: pointer;\n",
              "      display: none;\n",
              "      fill: #1967D2;\n",
              "      height: 32px;\n",
              "      padding: 0 0 0 0;\n",
              "      width: 32px;\n",
              "    }\n",
              "\n",
              "    .colab-df-convert:hover {\n",
              "      background-color: #E2EBFA;\n",
              "      box-shadow: 0px 1px 2px rgba(60, 64, 67, 0.3), 0px 1px 3px 1px rgba(60, 64, 67, 0.15);\n",
              "      fill: #174EA6;\n",
              "    }\n",
              "\n",
              "    [theme=dark] .colab-df-convert {\n",
              "      background-color: #3B4455;\n",
              "      fill: #D2E3FC;\n",
              "    }\n",
              "\n",
              "    [theme=dark] .colab-df-convert:hover {\n",
              "      background-color: #434B5C;\n",
              "      box-shadow: 0px 1px 3px 1px rgba(0, 0, 0, 0.15);\n",
              "      filter: drop-shadow(0px 1px 2px rgba(0, 0, 0, 0.3));\n",
              "      fill: #FFFFFF;\n",
              "    }\n",
              "  </style>\n",
              "\n",
              "      <script>\n",
              "        const buttonEl =\n",
              "          document.querySelector('#df-249f432e-c1d5-4c79-8d4b-8f4efac915b2 button.colab-df-convert');\n",
              "        buttonEl.style.display =\n",
              "          google.colab.kernel.accessAllowed ? 'block' : 'none';\n",
              "\n",
              "        async function convertToInteractive(key) {\n",
              "          const element = document.querySelector('#df-249f432e-c1d5-4c79-8d4b-8f4efac915b2');\n",
              "          const dataTable =\n",
              "            await google.colab.kernel.invokeFunction('convertToInteractive',\n",
              "                                                     [key], {});\n",
              "          if (!dataTable) return;\n",
              "\n",
              "          const docLinkHtml = 'Like what you see? Visit the ' +\n",
              "            '<a target=\"_blank\" href=https://colab.research.google.com/notebooks/data_table.ipynb>data table notebook</a>'\n",
              "            + ' to learn more about interactive tables.';\n",
              "          element.innerHTML = '';\n",
              "          dataTable['output_type'] = 'display_data';\n",
              "          await google.colab.output.renderOutput(dataTable, element);\n",
              "          const docLink = document.createElement('div');\n",
              "          docLink.innerHTML = docLinkHtml;\n",
              "          element.appendChild(docLink);\n",
              "        }\n",
              "      </script>\n",
              "    </div>\n",
              "  </div>\n",
              "  "
            ],
            "text/plain": [
              "                 date  store  item  sales  Month  Year  Day  WeekOfYear  \\\n",
              "date                                                                      \n",
              "2013-01-01 2013-01-01      1     1     13      1  2013    1           1   \n",
              "2013-01-02 2013-01-02      1     1     11      1  2013    2           1   \n",
              "2013-01-03 2013-01-03      1     1     14      1  2013    3           1   \n",
              "2013-01-04 2013-01-04      1     1     13      1  2013    4           1   \n",
              "2013-01-05 2013-01-05      1     1     10      1  2013    5           1   \n",
              "...               ...    ...   ...    ...    ...   ...  ...         ...   \n",
              "2017-12-27 2017-12-27     10    50     63     12  2017   27          52   \n",
              "2017-12-28 2017-12-28     10    50     59     12  2017   28          52   \n",
              "2017-12-29 2017-12-29     10    50     74     12  2017   29          52   \n",
              "2017-12-30 2017-12-30     10    50     62     12  2017   30          52   \n",
              "2017-12-31 2017-12-31     10    50     82     12  2017   31          52   \n",
              "\n",
              "            DayOfWeek  is_month_start  is_month_end  days_from_epoch  \n",
              "date                                                                  \n",
              "2013-01-01          1            True         False            15706  \n",
              "2013-01-02          2           False         False            15707  \n",
              "2013-01-03          3           False         False            15708  \n",
              "2013-01-04          4           False         False            15709  \n",
              "2013-01-05          5           False         False            15710  \n",
              "...               ...             ...           ...              ...  \n",
              "2017-12-27          2           False         False            17527  \n",
              "2017-12-28          3           False         False            17528  \n",
              "2017-12-29          4           False         False            17529  \n",
              "2017-12-30          5           False         False            17530  \n",
              "2017-12-31          6           False          True            17531  \n",
              "\n",
              "[913000 rows x 12 columns]"
            ]
          },
          "execution_count": 25,
          "metadata": {},
          "output_type": "execute_result"
        }
      ],
      "source": [
        "train"
      ]
    },
    {
      "cell_type": "markdown",
      "source": [
        "Viewing the sum, mean etc of sales after grouping by store, item and month"
      ],
      "metadata": {
        "id": "VJz2pM3YunrN"
      }
    },
    {
      "cell_type": "code",
      "execution_count": null,
      "metadata": {
        "colab": {
          "base_uri": "https://localhost:8080/",
          "height": 486
        },
        "id": "4CX4k_lRG5nX",
        "outputId": "aff0ea93-2efd-4461-e072-54ac33a76ae0"
      },
      "outputs": [
        {
          "data": {
            "text/html": [
              "\n",
              "  <div id=\"df-14366cb3-1820-4a89-bbe1-56e5a9bdc7a3\">\n",
              "    <div class=\"colab-df-container\">\n",
              "      <div>\n",
              "<style scoped>\n",
              "    .dataframe tbody tr th:only-of-type {\n",
              "        vertical-align: middle;\n",
              "    }\n",
              "\n",
              "    .dataframe tbody tr th {\n",
              "        vertical-align: top;\n",
              "    }\n",
              "\n",
              "    .dataframe thead tr th {\n",
              "        text-align: left;\n",
              "    }\n",
              "\n",
              "    .dataframe thead tr:last-of-type th {\n",
              "        text-align: right;\n",
              "    }\n",
              "</style>\n",
              "<table border=\"1\" class=\"dataframe\">\n",
              "  <thead>\n",
              "    <tr>\n",
              "      <th></th>\n",
              "      <th></th>\n",
              "      <th></th>\n",
              "      <th colspan=\"4\" halign=\"left\">sales</th>\n",
              "    </tr>\n",
              "    <tr>\n",
              "      <th></th>\n",
              "      <th></th>\n",
              "      <th></th>\n",
              "      <th>sum</th>\n",
              "      <th>mean</th>\n",
              "      <th>median</th>\n",
              "      <th>std</th>\n",
              "    </tr>\n",
              "    <tr>\n",
              "      <th>store</th>\n",
              "      <th>item</th>\n",
              "      <th>Month</th>\n",
              "      <th></th>\n",
              "      <th></th>\n",
              "      <th></th>\n",
              "      <th></th>\n",
              "    </tr>\n",
              "  </thead>\n",
              "  <tbody>\n",
              "    <tr>\n",
              "      <th rowspan=\"5\" valign=\"top\">1</th>\n",
              "      <th rowspan=\"5\" valign=\"top\">1</th>\n",
              "      <th>1</th>\n",
              "      <td>2125</td>\n",
              "      <td>13.709677</td>\n",
              "      <td>13.0</td>\n",
              "      <td>4.397413</td>\n",
              "    </tr>\n",
              "    <tr>\n",
              "      <th>2</th>\n",
              "      <td>2063</td>\n",
              "      <td>14.631206</td>\n",
              "      <td>14.0</td>\n",
              "      <td>4.668146</td>\n",
              "    </tr>\n",
              "    <tr>\n",
              "      <th>3</th>\n",
              "      <td>2728</td>\n",
              "      <td>17.600000</td>\n",
              "      <td>17.0</td>\n",
              "      <td>4.545013</td>\n",
              "    </tr>\n",
              "    <tr>\n",
              "      <th>4</th>\n",
              "      <td>3118</td>\n",
              "      <td>20.786667</td>\n",
              "      <td>20.0</td>\n",
              "      <td>4.894301</td>\n",
              "    </tr>\n",
              "    <tr>\n",
              "      <th>5</th>\n",
              "      <td>3448</td>\n",
              "      <td>22.245161</td>\n",
              "      <td>22.0</td>\n",
              "      <td>6.564705</td>\n",
              "    </tr>\n",
              "    <tr>\n",
              "      <th>...</th>\n",
              "      <th>...</th>\n",
              "      <th>...</th>\n",
              "      <td>...</td>\n",
              "      <td>...</td>\n",
              "      <td>...</td>\n",
              "      <td>...</td>\n",
              "    </tr>\n",
              "    <tr>\n",
              "      <th rowspan=\"5\" valign=\"top\">10</th>\n",
              "      <th rowspan=\"5\" valign=\"top\">50</th>\n",
              "      <th>8</th>\n",
              "      <td>13108</td>\n",
              "      <td>84.567742</td>\n",
              "      <td>85.0</td>\n",
              "      <td>15.676527</td>\n",
              "    </tr>\n",
              "    <tr>\n",
              "      <th>9</th>\n",
              "      <td>11831</td>\n",
              "      <td>78.873333</td>\n",
              "      <td>79.0</td>\n",
              "      <td>15.207423</td>\n",
              "    </tr>\n",
              "    <tr>\n",
              "      <th>10</th>\n",
              "      <td>11322</td>\n",
              "      <td>73.045161</td>\n",
              "      <td>72.0</td>\n",
              "      <td>14.209171</td>\n",
              "    </tr>\n",
              "    <tr>\n",
              "      <th>11</th>\n",
              "      <td>11549</td>\n",
              "      <td>76.993333</td>\n",
              "      <td>77.0</td>\n",
              "      <td>16.253651</td>\n",
              "    </tr>\n",
              "    <tr>\n",
              "      <th>12</th>\n",
              "      <td>8724</td>\n",
              "      <td>56.283871</td>\n",
              "      <td>56.0</td>\n",
              "      <td>11.782529</td>\n",
              "    </tr>\n",
              "  </tbody>\n",
              "</table>\n",
              "<p>6000 rows × 4 columns</p>\n",
              "</div>\n",
              "      <button class=\"colab-df-convert\" onclick=\"convertToInteractive('df-14366cb3-1820-4a89-bbe1-56e5a9bdc7a3')\"\n",
              "              title=\"Convert this dataframe to an interactive table.\"\n",
              "              style=\"display:none;\">\n",
              "        \n",
              "  <svg xmlns=\"http://www.w3.org/2000/svg\" height=\"24px\"viewBox=\"0 0 24 24\"\n",
              "       width=\"24px\">\n",
              "    <path d=\"M0 0h24v24H0V0z\" fill=\"none\"/>\n",
              "    <path d=\"M18.56 5.44l.94 2.06.94-2.06 2.06-.94-2.06-.94-.94-2.06-.94 2.06-2.06.94zm-11 1L8.5 8.5l.94-2.06 2.06-.94-2.06-.94L8.5 2.5l-.94 2.06-2.06.94zm10 10l.94 2.06.94-2.06 2.06-.94-2.06-.94-.94-2.06-.94 2.06-2.06.94z\"/><path d=\"M17.41 7.96l-1.37-1.37c-.4-.4-.92-.59-1.43-.59-.52 0-1.04.2-1.43.59L10.3 9.45l-7.72 7.72c-.78.78-.78 2.05 0 2.83L4 21.41c.39.39.9.59 1.41.59.51 0 1.02-.2 1.41-.59l7.78-7.78 2.81-2.81c.8-.78.8-2.07 0-2.86zM5.41 20L4 18.59l7.72-7.72 1.47 1.35L5.41 20z\"/>\n",
              "  </svg>\n",
              "      </button>\n",
              "      \n",
              "  <style>\n",
              "    .colab-df-container {\n",
              "      display:flex;\n",
              "      flex-wrap:wrap;\n",
              "      gap: 12px;\n",
              "    }\n",
              "\n",
              "    .colab-df-convert {\n",
              "      background-color: #E8F0FE;\n",
              "      border: none;\n",
              "      border-radius: 50%;\n",
              "      cursor: pointer;\n",
              "      display: none;\n",
              "      fill: #1967D2;\n",
              "      height: 32px;\n",
              "      padding: 0 0 0 0;\n",
              "      width: 32px;\n",
              "    }\n",
              "\n",
              "    .colab-df-convert:hover {\n",
              "      background-color: #E2EBFA;\n",
              "      box-shadow: 0px 1px 2px rgba(60, 64, 67, 0.3), 0px 1px 3px 1px rgba(60, 64, 67, 0.15);\n",
              "      fill: #174EA6;\n",
              "    }\n",
              "\n",
              "    [theme=dark] .colab-df-convert {\n",
              "      background-color: #3B4455;\n",
              "      fill: #D2E3FC;\n",
              "    }\n",
              "\n",
              "    [theme=dark] .colab-df-convert:hover {\n",
              "      background-color: #434B5C;\n",
              "      box-shadow: 0px 1px 3px 1px rgba(0, 0, 0, 0.15);\n",
              "      filter: drop-shadow(0px 1px 2px rgba(0, 0, 0, 0.3));\n",
              "      fill: #FFFFFF;\n",
              "    }\n",
              "  </style>\n",
              "\n",
              "      <script>\n",
              "        const buttonEl =\n",
              "          document.querySelector('#df-14366cb3-1820-4a89-bbe1-56e5a9bdc7a3 button.colab-df-convert');\n",
              "        buttonEl.style.display =\n",
              "          google.colab.kernel.accessAllowed ? 'block' : 'none';\n",
              "\n",
              "        async function convertToInteractive(key) {\n",
              "          const element = document.querySelector('#df-14366cb3-1820-4a89-bbe1-56e5a9bdc7a3');\n",
              "          const dataTable =\n",
              "            await google.colab.kernel.invokeFunction('convertToInteractive',\n",
              "                                                     [key], {});\n",
              "          if (!dataTable) return;\n",
              "\n",
              "          const docLinkHtml = 'Like what you see? Visit the ' +\n",
              "            '<a target=\"_blank\" href=https://colab.research.google.com/notebooks/data_table.ipynb>data table notebook</a>'\n",
              "            + ' to learn more about interactive tables.';\n",
              "          element.innerHTML = '';\n",
              "          dataTable['output_type'] = 'display_data';\n",
              "          await google.colab.output.renderOutput(dataTable, element);\n",
              "          const docLink = document.createElement('div');\n",
              "          docLink.innerHTML = docLinkHtml;\n",
              "          element.appendChild(docLink);\n",
              "        }\n",
              "      </script>\n",
              "    </div>\n",
              "  </div>\n",
              "  "
            ],
            "text/plain": [
              "                  sales                             \n",
              "                    sum       mean median        std\n",
              "store item Month                                    \n",
              "1     1    1       2125  13.709677   13.0   4.397413\n",
              "           2       2063  14.631206   14.0   4.668146\n",
              "           3       2728  17.600000   17.0   4.545013\n",
              "           4       3118  20.786667   20.0   4.894301\n",
              "           5       3448  22.245161   22.0   6.564705\n",
              "...                 ...        ...    ...        ...\n",
              "10    50   8      13108  84.567742   85.0  15.676527\n",
              "           9      11831  78.873333   79.0  15.207423\n",
              "           10     11322  73.045161   72.0  14.209171\n",
              "           11     11549  76.993333   77.0  16.253651\n",
              "           12      8724  56.283871   56.0  11.782529\n",
              "\n",
              "[6000 rows x 4 columns]"
            ]
          },
          "execution_count": 26,
          "metadata": {},
          "output_type": "execute_result"
        }
      ],
      "source": [
        "train.groupby([\"store\", \"item\", \"Month\"]).agg({\"sales\": [\"sum\", \"mean\", \"median\", \"std\"]})"
      ]
    },
    {
      "cell_type": "markdown",
      "source": [
        "## Validation data\n",
        "Splitting the train data into training and validation set. For this we take data until 2016 as train set and four months of 2017 as validation set."
      ],
      "metadata": {
        "id": "JjKppMPDu52C"
      }
    },
    {
      "cell_type": "code",
      "execution_count": null,
      "metadata": {
        "id": "g9NzBXZdDj7b"
      },
      "outputs": [],
      "source": [
        "#train-validation split\n",
        "train_df = train.loc[(train[\"date\"] < \"2017-01-01\"), :]\n",
        "\n",
        "# Validation set including first 3 months of 2017 (as we will forecast the first 3 months of 2018)\n",
        "val = train.loc[(train[\"date\"] >= \"2017-01-01\") & (train[\"date\"] < \"2017-04-01\"), :]"
      ]
    },
    {
      "cell_type": "code",
      "execution_count": null,
      "metadata": {
        "colab": {
          "base_uri": "https://localhost:8080/"
        },
        "id": "eWnR6oFGDkNZ",
        "outputId": "cd1ef5a0-480c-43bb-bfa2-d2b3a7dc393e"
      },
      "outputs": [
        {
          "name": "stderr",
          "output_type": "stream",
          "text": [
            "/usr/local/lib/python3.7/dist-packages/pandas/core/frame.py:4913: SettingWithCopyWarning: \n",
            "A value is trying to be set on a copy of a slice from a DataFrame\n",
            "\n",
            "See the caveats in the documentation: https://pandas.pydata.org/pandas-docs/stable/user_guide/indexing.html#returning-a-view-versus-a-copy\n",
            "  errors=errors,\n"
          ]
        }
      ],
      "source": [
        "train_df.drop('date',axis=1,inplace=True)\n",
        "val.drop('date',axis=1,inplace=True)"
      ]
    },
    {
      "cell_type": "markdown",
      "source": [
        "One hot encoding the store and item column"
      ],
      "metadata": {
        "id": "WxxOHWzjvsWl"
      }
    },
    {
      "cell_type": "code",
      "execution_count": null,
      "metadata": {
        "id": "f15mP9BeDkZD"
      },
      "outputs": [],
      "source": [
        "train_df = pd.get_dummies(train_df, columns=['store', 'item'])\n",
        "val = pd.get_dummies(val, columns=['store', 'item'])"
      ]
    },
    {
      "cell_type": "markdown",
      "source": [
        "Converting sales to log(1+sales)"
      ],
      "metadata": {
        "id": "FmHB1wPDv109"
      }
    },
    {
      "cell_type": "code",
      "execution_count": null,
      "metadata": {
        "id": "5pOdFSB_ABxs"
      },
      "outputs": [],
      "source": [
        "train_df['sales'] = np.log1p(train_df[\"sales\"].values)\n",
        "val['sales'] = np.log1p(val[\"sales\"].values)\n"
      ]
    },
    {
      "cell_type": "code",
      "execution_count": null,
      "metadata": {
        "id": "GFbehUP6Dfsp"
      },
      "outputs": [],
      "source": [
        "#X- y in train valid\n",
        "train_X = train_df.copy(deep=True)\n",
        "del train_X['sales']\n",
        "train_y = train_df['sales']\n",
        "\n",
        "val_X = val.copy(deep=True)\n",
        "del val_X['sales']\n",
        "val_y = val['sales']"
      ]
    },
    {
      "cell_type": "markdown",
      "metadata": {
        "id": "WrM4pBdptkJD"
      },
      "source": [
        "# Modeling"
      ]
    },
    {
      "cell_type": "markdown",
      "source": [
        "## Gradient Boost"
      ],
      "metadata": {
        "id": "4zq2LrYBv8V8"
      }
    },
    {
      "cell_type": "code",
      "execution_count": null,
      "metadata": {
        "id": "AAvTK8QGcsPk"
      },
      "outputs": [],
      "source": [
        "from sklearn.ensemble import GradientBoostingRegressor\n",
        "\n",
        "clf = GradientBoostingRegressor(n_estimators=100, learning_rate=0.25,\n",
        "        max_depth=1).fit(train_X, train_y)"
      ]
    },
    {
      "cell_type": "code",
      "execution_count": null,
      "metadata": {
        "id": "Fh7MTD70csjl"
      },
      "outputs": [],
      "source": [
        "pred_y = clf.predict(val_X)"
      ]
    },
    {
      "cell_type": "code",
      "execution_count": null,
      "metadata": {
        "colab": {
          "base_uri": "https://localhost:8080/"
        },
        "id": "YRJYBjY1ctAV",
        "outputId": "bfe33f7a-bcda-417c-a32a-96be2a96a48a"
      },
      "outputs": [
        {
          "name": "stdout",
          "output_type": "stream",
          "text": [
            "MSE:  0.0980414902195943\n",
            "R sqaure  0.6767127014722807\n"
          ]
        }
      ],
      "source": [
        "from sklearn.metrics import mean_squared_error, r2_score\n",
        "print('MSE: ',mean_squared_error(val_y,pred_y))\n",
        "print('R sqaure ',r2_score(val_y,pred_y))"
      ]
    },
    {
      "cell_type": "markdown",
      "source": [
        "## XGBOOST"
      ],
      "metadata": {
        "id": "luymNwbTwB1Q"
      }
    },
    {
      "cell_type": "code",
      "execution_count": null,
      "metadata": {
        "colab": {
          "base_uri": "https://localhost:8080/"
        },
        "id": "yVQln8iLthCy",
        "outputId": "89ce7565-27b4-4833-854b-a1c6c5d2745a"
      },
      "outputs": [
        {
          "name": "stdout",
          "output_type": "stream",
          "text": [
            "[13:15:08] WARNING: /workspace/src/objective/regression_obj.cu:152: reg:linear is now deprecated in favor of reg:squarederror.\n",
            "MSE:  0.08531395976438066\n",
            "R sqaure  0.7186811469597907\n"
          ]
        }
      ],
      "source": [
        "from xgboost import XGBRegressor\n",
        "xgb = XGBRegressor()\n",
        "xgb.fit(train_X, train_y)\n",
        "pred_xgb = xgb.predict(val_X)\n",
        "print('MSE: ',mean_squared_error(val_y,pred_xgb))\n",
        "print('R sqaure ',r2_score(val_y,pred_xgb))"
      ]
    },
    {
      "cell_type": "code",
      "execution_count": null,
      "metadata": {
        "colab": {
          "base_uri": "https://localhost:8080/"
        },
        "id": "9QgdSuzdm5aj",
        "outputId": "da603fef-baf8-4860-ad19-71251a9e2a77"
      },
      "outputs": [
        {
          "data": {
            "text/plain": [
              "array([3.36595815, 3.08933207, 3.17500061, ..., 3.92455749, 3.96702292,\n",
              "       4.02001251])"
            ]
          },
          "execution_count": 36,
          "metadata": {},
          "output_type": "execute_result"
        }
      ],
      "source": [
        "pred_y"
      ]
    },
    {
      "cell_type": "code",
      "execution_count": null,
      "metadata": {
        "colab": {
          "base_uri": "https://localhost:8080/"
        },
        "id": "7N5OPrkHm93l",
        "outputId": "2caaa53b-3a33-43fb-908f-509a0aa7eef3"
      },
      "outputs": [
        {
          "data": {
            "text/plain": [
              "array([3.2173932, 3.006214 , 3.0557194, ..., 3.9404962, 3.9744158,\n",
              "       4.0342417], dtype=float32)"
            ]
          },
          "execution_count": 37,
          "metadata": {},
          "output_type": "execute_result"
        }
      ],
      "source": [
        "pred_xgb"
      ]
    },
    {
      "cell_type": "markdown",
      "metadata": {
        "id": "LKVO7R6EjlLA"
      },
      "source": [
        "## LightGBM"
      ]
    },
    {
      "cell_type": "code",
      "execution_count": null,
      "metadata": {
        "id": "_NKWr3iJjf6C"
      },
      "outputs": [],
      "source": [
        "import lightgbm as lgb\n",
        "lgb_params = {'metric': {'mae'},\n",
        "              'num_leaves': 10,\n",
        "              'learning_rate': 0.02,\n",
        "              'feature_fraction': 0.8,\n",
        "              'max_depth': 5,\n",
        "              'verbose': 0,\n",
        "              'num_boost_round': 15000,\n",
        "              'early_stopping_rounds': 200,\n",
        "              'nthread': -1}\n",
        "\n",
        "cols = [col for col in train.columns if col not in ['date', 'id', \"sales\", \"year\"]]\n",
        "\n",
        "lgbtrain = lgb.Dataset(data=train_X, label=train_y, feature_name=cols)\n",
        "lgbval = lgb.Dataset(data=val_X, label=val_y, reference=lgbtrain, feature_name=cols)"
      ]
    },
    {
      "cell_type": "code",
      "execution_count": null,
      "metadata": {
        "colab": {
          "base_uri": "https://localhost:8080/"
        },
        "id": "w8SR5-yUnVKI",
        "outputId": "d6a68de8-50ae-4bfd-b6aa-4aca45f5fd87"
      },
      "outputs": [
        {
          "name": "stdout",
          "output_type": "stream",
          "text": [
            "[1]\ttraining's l2: 0.301356\tvalid_0's l2: 0.282503\n",
            "[2]\ttraining's l2: 0.273534\tvalid_0's l2: 0.264605\n",
            "[3]\ttraining's l2: 0.252066\tvalid_0's l2: 0.246375\n",
            "[4]\ttraining's l2: 0.236848\tvalid_0's l2: 0.23468\n",
            "[5]\ttraining's l2: 0.218081\tvalid_0's l2: 0.211028\n",
            "[6]\ttraining's l2: 0.202994\tvalid_0's l2: 0.208166\n",
            "[7]\ttraining's l2: 0.192971\tvalid_0's l2: 0.199247\n",
            "[8]\ttraining's l2: 0.181352\tvalid_0's l2: 0.182677\n",
            "[9]\ttraining's l2: 0.172913\tvalid_0's l2: 0.169412\n",
            "[10]\ttraining's l2: 0.166154\tvalid_0's l2: 0.164444\n",
            "[11]\ttraining's l2: 0.15812\tvalid_0's l2: 0.156803\n",
            "[12]\ttraining's l2: 0.147794\tvalid_0's l2: 0.151129\n",
            "[13]\ttraining's l2: 0.13802\tvalid_0's l2: 0.138798\n",
            "[14]\ttraining's l2: 0.124332\tvalid_0's l2: 0.124061\n",
            "[15]\ttraining's l2: 0.119844\tvalid_0's l2: 0.121155\n",
            "[16]\ttraining's l2: 0.114329\tvalid_0's l2: 0.116805\n",
            "[17]\ttraining's l2: 0.10874\tvalid_0's l2: 0.112623\n",
            "[18]\ttraining's l2: 0.0987145\tvalid_0's l2: 0.100988\n",
            "[19]\ttraining's l2: 0.0940251\tvalid_0's l2: 0.100881\n",
            "[20]\ttraining's l2: 0.0899889\tvalid_0's l2: 0.0957908\n",
            "[21]\ttraining's l2: 0.0829278\tvalid_0's l2: 0.0879463\n",
            "[22]\ttraining's l2: 0.0805572\tvalid_0's l2: 0.0859647\n",
            "[23]\ttraining's l2: 0.0767255\tvalid_0's l2: 0.0849808\n",
            "[24]\ttraining's l2: 0.0734967\tvalid_0's l2: 0.0849816\n",
            "[25]\ttraining's l2: 0.0708491\tvalid_0's l2: 0.0828543\n",
            "[26]\ttraining's l2: 0.0691095\tvalid_0's l2: 0.081214\n",
            "[27]\ttraining's l2: 0.0656621\tvalid_0's l2: 0.0781001\n",
            "[28]\ttraining's l2: 0.0613835\tvalid_0's l2: 0.0726634\n",
            "[29]\ttraining's l2: 0.0597664\tvalid_0's l2: 0.0706588\n",
            "[30]\ttraining's l2: 0.058235\tvalid_0's l2: 0.067077\n",
            "[31]\ttraining's l2: 0.0547821\tvalid_0's l2: 0.062275\n",
            "[32]\ttraining's l2: 0.0536015\tvalid_0's l2: 0.0607811\n",
            "[33]\ttraining's l2: 0.0519262\tvalid_0's l2: 0.0596199\n",
            "[34]\ttraining's l2: 0.0509821\tvalid_0's l2: 0.058936\n",
            "[35]\ttraining's l2: 0.0493337\tvalid_0's l2: 0.056783\n",
            "[36]\ttraining's l2: 0.0481558\tvalid_0's l2: 0.0556743\n",
            "[37]\ttraining's l2: 0.0458601\tvalid_0's l2: 0.0524249\n",
            "[38]\ttraining's l2: 0.045069\tvalid_0's l2: 0.0515039\n",
            "[39]\ttraining's l2: 0.0443659\tvalid_0's l2: 0.0498238\n",
            "[40]\ttraining's l2: 0.0428864\tvalid_0's l2: 0.0482053\n",
            "[41]\ttraining's l2: 0.0421208\tvalid_0's l2: 0.0475548\n",
            "[42]\ttraining's l2: 0.0411885\tvalid_0's l2: 0.046569\n",
            "[43]\ttraining's l2: 0.0406301\tvalid_0's l2: 0.0461336\n",
            "[44]\ttraining's l2: 0.0394094\tvalid_0's l2: 0.0444769\n",
            "[45]\ttraining's l2: 0.0389336\tvalid_0's l2: 0.0439629\n",
            "[46]\ttraining's l2: 0.0380621\tvalid_0's l2: 0.0428235\n",
            "[47]\ttraining's l2: 0.0376447\tvalid_0's l2: 0.0424121\n",
            "[48]\ttraining's l2: 0.0369212\tvalid_0's l2: 0.0414777\n",
            "[49]\ttraining's l2: 0.0365305\tvalid_0's l2: 0.0412088\n",
            "[50]\ttraining's l2: 0.0356416\tvalid_0's l2: 0.0398518\n",
            "[51]\ttraining's l2: 0.0353379\tvalid_0's l2: 0.0395348\n",
            "[52]\ttraining's l2: 0.0349217\tvalid_0's l2: 0.0388049\n",
            "[53]\ttraining's l2: 0.034665\tvalid_0's l2: 0.0387149\n",
            "[54]\ttraining's l2: 0.0340127\tvalid_0's l2: 0.0377741\n",
            "[55]\ttraining's l2: 0.0338057\tvalid_0's l2: 0.0376197\n",
            "[56]\ttraining's l2: 0.0334732\tvalid_0's l2: 0.03734\n",
            "[57]\ttraining's l2: 0.0332657\tvalid_0's l2: 0.0369353\n",
            "[58]\ttraining's l2: 0.0327748\tvalid_0's l2: 0.0362597\n",
            "[59]\ttraining's l2: 0.0325919\tvalid_0's l2: 0.0358869\n",
            "[60]\ttraining's l2: 0.032374\tvalid_0's l2: 0.0356339\n",
            "[61]\ttraining's l2: 0.0321433\tvalid_0's l2: 0.0354539\n",
            "[62]\ttraining's l2: 0.0319576\tvalid_0's l2: 0.0353948\n",
            "[63]\ttraining's l2: 0.0316833\tvalid_0's l2: 0.035101\n",
            "[64]\ttraining's l2: 0.0315015\tvalid_0's l2: 0.0349207\n",
            "[65]\ttraining's l2: 0.0311831\tvalid_0's l2: 0.0344592\n",
            "[66]\ttraining's l2: 0.0310166\tvalid_0's l2: 0.0344332\n",
            "[67]\ttraining's l2: 0.0309186\tvalid_0's l2: 0.0345398\n",
            "[68]\ttraining's l2: 0.0307662\tvalid_0's l2: 0.034374\n",
            "[69]\ttraining's l2: 0.0306414\tvalid_0's l2: 0.0341783\n",
            "[70]\ttraining's l2: 0.0305357\tvalid_0's l2: 0.0340722\n",
            "[71]\ttraining's l2: 0.03036\tvalid_0's l2: 0.0338396\n",
            "[72]\ttraining's l2: 0.030249\tvalid_0's l2: 0.0337992\n",
            "[73]\ttraining's l2: 0.0301292\tvalid_0's l2: 0.0336721\n",
            "[74]\ttraining's l2: 0.0299935\tvalid_0's l2: 0.0335035\n",
            "[75]\ttraining's l2: 0.0299104\tvalid_0's l2: 0.0334403\n",
            "[76]\ttraining's l2: 0.0298149\tvalid_0's l2: 0.0332536\n",
            "[77]\ttraining's l2: 0.0297467\tvalid_0's l2: 0.033394\n",
            "[78]\ttraining's l2: 0.0296413\tvalid_0's l2: 0.033289\n",
            "[79]\ttraining's l2: 0.0295357\tvalid_0's l2: 0.0331324\n",
            "[80]\ttraining's l2: 0.0294413\tvalid_0's l2: 0.0330398\n",
            "[81]\ttraining's l2: 0.0293905\tvalid_0's l2: 0.0329967\n",
            "[82]\ttraining's l2: 0.029346\tvalid_0's l2: 0.0329832\n",
            "[83]\ttraining's l2: 0.0292831\tvalid_0's l2: 0.0331173\n",
            "[84]\ttraining's l2: 0.0292305\tvalid_0's l2: 0.0329834\n",
            "[85]\ttraining's l2: 0.0291866\tvalid_0's l2: 0.0329311\n",
            "[86]\ttraining's l2: 0.0291192\tvalid_0's l2: 0.0328314\n",
            "[87]\ttraining's l2: 0.0290566\tvalid_0's l2: 0.0328422\n",
            "[88]\ttraining's l2: 0.0290213\tvalid_0's l2: 0.032845\n",
            "[89]\ttraining's l2: 0.0289749\tvalid_0's l2: 0.0327932\n",
            "[90]\ttraining's l2: 0.0289186\tvalid_0's l2: 0.0328916\n",
            "[91]\ttraining's l2: 0.0288659\tvalid_0's l2: 0.0328822\n",
            "[92]\ttraining's l2: 0.028829\tvalid_0's l2: 0.0328475\n",
            "[93]\ttraining's l2: 0.0287796\tvalid_0's l2: 0.0328235\n",
            "[94]\ttraining's l2: 0.0287525\tvalid_0's l2: 0.0327665\n",
            "[95]\ttraining's l2: 0.0287061\tvalid_0's l2: 0.0327211\n",
            "[96]\ttraining's l2: 0.0286705\tvalid_0's l2: 0.0327036\n",
            "[97]\ttraining's l2: 0.0286419\tvalid_0's l2: 0.0327239\n",
            "[98]\ttraining's l2: 0.0286158\tvalid_0's l2: 0.0326545\n",
            "[99]\ttraining's l2: 0.0285838\tvalid_0's l2: 0.0326074\n",
            "[100]\ttraining's l2: 0.0285496\tvalid_0's l2: 0.03258\n"
          ]
        },
        {
          "data": {
            "text/plain": [
              "LGBMRegressor(random_state=42)"
            ]
          },
          "execution_count": 40,
          "metadata": {},
          "output_type": "execute_result"
        }
      ],
      "source": [
        "import lightgbm as lgb\n",
        "model = lgb.LGBMRegressor(random_state = 42)\n",
        "model.fit(train_X, train_y, eval_set = [(val_X, val_y), (train_X, train_y)])"
      ]
    },
    {
      "cell_type": "code",
      "execution_count": null,
      "metadata": {
        "colab": {
          "base_uri": "https://localhost:8080/"
        },
        "id": "ZxOtHQVjjgJO",
        "outputId": "7fe38ec5-5b0b-48e2-ae61-2ec6551025f2"
      },
      "outputs": [
        {
          "name": "stdout",
          "output_type": "stream",
          "text": [
            "Training accuracy 0.9144\n",
            "Testing accuracy 0.8926\n"
          ]
        }
      ],
      "source": [
        "print('Training accuracy {:.4f}'.format(model.score(train_X,train_y)))\n",
        "print('Testing accuracy {:.4f}'.format(model.score(val_X,val_y)))"
      ]
    },
    {
      "cell_type": "code",
      "execution_count": null,
      "metadata": {
        "id": "mZU09oC4jgWg"
      },
      "outputs": [],
      "source": [
        ""
      ]
    },
    {
      "cell_type": "markdown",
      "source": [
        "Comparing all the three models used LightGBM is found to be the best fit for the data"
      ],
      "metadata": {
        "id": "JHEpAjWGxIRa"
      }
    },
    {
      "cell_type": "markdown",
      "source": [
        "# Feature engineering on test data"
      ],
      "metadata": {
        "id": "nwCQoS5uwSOG"
      }
    },
    {
      "cell_type": "code",
      "execution_count": null,
      "metadata": {
        "colab": {
          "base_uri": "https://localhost:8080/"
        },
        "id": "ZnNnq0UHHJQq",
        "outputId": "2ea397d4-fb95-47f1-9d89-25bf41a28264"
      },
      "outputs": [
        {
          "name": "stderr",
          "output_type": "stream",
          "text": [
            "/usr/local/lib/python3.7/dist-packages/ipykernel_launcher.py:8: FutureWarning: weekofyear and week have been deprecated, please use DatetimeIndex.isocalendar().week instead, which returns a Series.  To exactly reproduce the behavior of week and weekofyear and return an Index, you may call pd.Int64Index(idx.isocalendar().week)\n",
            "  \n"
          ]
        }
      ],
      "source": [
        "\n",
        "test.index=pd.to_datetime(test['date'],format='%Y-%m-%d')\n",
        "test['date']=pd.to_datetime(test['date'],format='%Y-%m-%d')\n",
        "\n",
        "test['Month']=test.date.dt.month\n",
        "test['Year']=test.date.dt.year\n",
        "test['Day'] = test.index.day\n",
        "test['WeekOfYear'] = test.index.weekofyear\n",
        "test['DayOfWeek'] = test.index.dayofweek\n",
        "test['is_month_start'] = test.index.is_month_start\n",
        "test['is_month_end'] = test.index.is_month_end\n",
        "test['days_from_epoch'] = (test.index - pd.Timestamp(\"1970-01-01\")).days\n",
        "\n",
        "\n",
        "test.drop('date',axis=1,inplace=True)"
      ]
    },
    {
      "cell_type": "code",
      "execution_count": null,
      "metadata": {
        "id": "GkU0DRuDBgw1"
      },
      "outputs": [],
      "source": [
        "\n",
        "test_X = test.copy(deep=True)\n",
        "del test_X['id']\n",
        "test_X=pd.get_dummies(test_X, columns=['store', 'item'])\n"
      ]
    },
    {
      "cell_type": "code",
      "execution_count": null,
      "metadata": {
        "id": "CejN_NgMuyoX"
      },
      "outputs": [],
      "source": [
        ""
      ]
    },
    {
      "cell_type": "code",
      "execution_count": null,
      "metadata": {
        "colab": {
          "base_uri": "https://localhost:8080/"
        },
        "id": "xrn8xdlSBsM6",
        "outputId": "79eae1a4-538a-4f05-91cc-f3ce9b1bbbd3"
      },
      "outputs": [
        {
          "data": {
            "text/plain": [
              "array([2.65126074, 2.75405556, 2.75405556, ..., 4.34474538, 4.42260569,\n",
              "       4.45391709])"
            ]
          },
          "execution_count": 59,
          "metadata": {},
          "output_type": "execute_result"
        }
      ],
      "source": [
        "model.predict(test_X)"
      ]
    },
    {
      "cell_type": "code",
      "source": [
        ""
      ],
      "metadata": {
        "id": "KGyqddBaz4Ov"
      },
      "execution_count": null,
      "outputs": []
    },
    {
      "cell_type": "markdown",
      "source": [
        "# END"
      ],
      "metadata": {
        "id": "pGYAxCHrGC4I"
      }
    },
    {
      "cell_type": "code",
      "source": [
        ""
      ],
      "metadata": {
        "id": "bj51dIupGD6Y"
      },
      "execution_count": null,
      "outputs": []
    }
  ],
  "metadata": {
    "colab": {
      "collapsed_sections": [],
      "name": "SalesForecast.ipynb",
      "provenance": []
    },
    "kernelspec": {
      "display_name": "Python 3",
      "name": "python3"
    },
    "language_info": {
      "name": "python"
    }
  },
  "nbformat": 4,
  "nbformat_minor": 0
}